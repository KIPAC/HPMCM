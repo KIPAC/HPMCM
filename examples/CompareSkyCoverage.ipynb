{
 "cells": [
  {
   "cell_type": "markdown",
   "id": "67a83cf9-d6a1-408e-a83c-686c4bbbe2c9",
   "metadata": {},
   "source": [
    "## Compare sky coverage between metadected catalog an object catalog\n",
    "\n",
    "This is a simple script to compare the sky coverage of the two different processings"
   ]
  },
  {
   "cell_type": "markdown",
   "id": "f079097a-27e6-4cd7-8988-f8899ec6429c",
   "metadata": {},
   "source": [
    "#### Standard imports"
   ]
  },
  {
   "cell_type": "code",
   "execution_count": null,
   "id": "360b52b2-4540-4630-8b2a-835a61748b13",
   "metadata": {},
   "outputs": [],
   "source": [
    "import tables_io\n",
    "import matplotlib.pyplot as plt"
   ]
  },
  {
   "cell_type": "markdown",
   "id": "52d20cb6-17fb-419d-8832-4bb7e6870812",
   "metadata": {},
   "source": [
    "#### Read the input data"
   ]
  },
  {
   "cell_type": "code",
   "execution_count": null,
   "id": "8a8b76d5-95c1-45b7-b189-9236d2377356",
   "metadata": {},
   "outputs": [],
   "source": [
    "t = tables_io.read('test_data/object_10463.pq')\n",
    "t2 = tables_io.read('test_data/shear_wmom_0p01_cleaned_10463_ns.pq')"
   ]
  },
  {
   "cell_type": "markdown",
   "id": "38693875-ff0b-4035-a0c8-ff13d929c6b6",
   "metadata": {},
   "source": [
    "#### Plot the footprints of the object table and metedetect table"
   ]
  },
  {
   "cell_type": "code",
   "execution_count": null,
   "id": "fd90f80e-5ecd-47f7-b4b7-f17c3c8a64ae",
   "metadata": {},
   "outputs": [],
   "source": [
    "_ = plt.scatter(t.ra, t.dec, s=1, label=\"Object Table\")\n",
    "_ = plt.scatter(t2.ra, t2.dec, s=1, c=(t2.patch_x + 10*t2.patch_y), cmap='rainbow', label=\"MetaDetect\")\n",
    "_ = plt.colorbar(label=\"Patch number\")\n",
    "_ = plt.xlabel(\"RA [deg]\")\n",
    "_ = plt.ylabel(\"DEC [deg]\")\n",
    "_ = plt.legend()"
   ]
  },
  {
   "cell_type": "markdown",
   "id": "8be03eb3-7bcf-4b9a-b3bd-5e100c09a1bd",
   "metadata": {},
   "source": [
    "#### Import and create skymap used to define tracts"
   ]
  },
  {
   "cell_type": "code",
   "execution_count": null,
   "id": "c7190f47-e6cb-41cc-8f4e-32e4b580c7f8",
   "metadata": {},
   "outputs": [],
   "source": [
    "from lsst.skymap.ringsSkyMap import RingsSkyMap, RingsSkyMapConfig\n",
    "skymap = RingsSkyMap(RingsSkyMapConfig(projection='TAN', numRings=120, tractOverlap=1/60, pixelScale=0.2))"
   ]
  },
  {
   "cell_type": "markdown",
   "id": "7ecea287-7a41-40d8-a548-1d54f0e7df37",
   "metadata": {},
   "source": [
    "#### Identify sources in tract and confirm that it covers the entire object footprint"
   ]
  },
  {
   "cell_type": "code",
   "execution_count": null,
   "id": "6dec175d-6b5b-45c4-a1b3-c8d943aa2771",
   "metadata": {},
   "outputs": [],
   "source": [
    "inTract = skymap.findTractIdArray(t.ra, t.dec, degrees=True) == 10463"
   ]
  },
  {
   "cell_type": "code",
   "execution_count": null,
   "id": "45c9a1bd-60ff-4f69-a232-a3f3352adb6a",
   "metadata": {},
   "outputs": [],
   "source": [
    "_ = plt.scatter(t.ra, t.dec, s=1, c=inTract)"
   ]
  },
  {
   "cell_type": "markdown",
   "id": "b0626eb0-d151-4b7c-b0aa-daceb14bbbea",
   "metadata": {},
   "source": [
    "#### Identify metadetect sources in tract and confirm that there are some overlaps"
   ]
  },
  {
   "cell_type": "code",
   "execution_count": null,
   "id": "fc6eea29-3ccc-41a1-a5d9-a8c46e68ab1f",
   "metadata": {},
   "outputs": [],
   "source": [
    "inTract2 = skymap.findTractIdArray(t2.ra.values, t2.dec.values, degrees=True) == 10463\n",
    "_ = plt.scatter(t2.ra, t2.dec, s=1, c=inTract2, cmap='rainbow')"
   ]
  },
  {
   "cell_type": "code",
   "execution_count": null,
   "id": "167e8f76-036d-4383-b276-90b68a0d6323",
   "metadata": {},
   "outputs": [],
   "source": []
  }
 ],
 "metadata": {
  "kernelspec": {
   "display_name": "Python 3 (ipykernel)",
   "language": "python",
   "name": "python3"
  },
  "language_info": {
   "codemirror_mode": {
    "name": "ipython",
    "version": 3
   },
   "file_extension": ".py",
   "mimetype": "text/x-python",
   "name": "python",
   "nbconvert_exporter": "python",
   "pygments_lexer": "ipython3",
   "version": "3.12.9"
  }
 },
 "nbformat": 4,
 "nbformat_minor": 5
}
