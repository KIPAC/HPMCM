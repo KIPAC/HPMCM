{
 "cells": [
  {
   "cell_type": "markdown",
   "id": "f44c5d9f-023b-4351-b7b6-9ba4a5b51b07",
   "metadata": {},
   "source": [
    "## Clean the input shear catalogs"
   ]
  },
  {
   "cell_type": "code",
   "execution_count": null,
   "id": "f54616a7-94b7-4635-94a0-e883d5349f32",
   "metadata": {},
   "outputs": [],
   "source": [
    "import numpy as np\n",
    "import tables_io"
   ]
  },
  {
   "cell_type": "code",
   "execution_count": null,
   "id": "1e03a72e-9f94-48e9-b596-5e8149ea2b95",
   "metadata": {},
   "outputs": [],
   "source": [
    "def split_by_type_and_clean(basefile, tract, catType, types=['ns', '1m', '2m', '1p', '2p'], shear=0.01):\n",
    "    p = tables_io.read(basefile)\n",
    "    for type_ in types:\n",
    "        mask = p['shear_type'] == type_\n",
    "        sub = p[mask].copy(deep=True)\n",
    "        idx_x = (20*sub['patch_x'].values + sub['cell_x'].values).astype(int)\n",
    "        idx_y = (20*sub['patch_y'].values + sub['cell_y'].values).astype(int)\n",
    "        cent_x = 150*idx_x -75\n",
    "        cent_y = 150*idx_y -75\n",
    "        xCellCoadd = sub['col'] - cent_x\n",
    "        yCellCoadd = sub['row'] - cent_y\n",
    "        sub[\"xCellCoadd\"] = xCell_coadd\n",
    "        sub[\"yCellCoadd\"] = yCell_coadd\n",
    "        sub[\"SNR\"] = sub[f\"{catType}_band_flux_r\"] / sub[f\"{catType}_band_flux_err_r\"]\n",
    "        sub[\"g_1\"] = sub[f\"{catType}_g_1\"]\n",
    "        sub[\"g_2\"] = sub[f\"{catType}_g_2\"]\n",
    "        sub[\"cellIdxX\"] = idx_x\n",
    "        sub[\"cellIdxY\"] = idx_y\n",
    "        sub[\"orig_id\"] = sub.id\n",
    "        sub[\"id\"] = np.arange(len(sub))\n",
    "        central_to_cell = np.bitwise_and(np.fabs(xCell_coadd) < 75, np.fabs(yCell_coadd) < 75)\n",
    "        #central_to_cell = np.bitwise_and(np.fabs(xCell_coadd) < 80, np.fabs(yCell_coadd) < 80)\n",
    "        central_to_patch = np.bitwise_and(np.fabs(sub['cell_x'].values - 10.5) < 10, np.fabs(sub['cell_y'].values - 10.5) < 10)\n",
    "        right_tract = sub['tract'] == tract\n",
    "        central = np.bitwise_and(central_to_cell, central_to_patch)\n",
    "        selected = np.bitwise_and(right_tract, central)\n",
    "        cleaned = sub[selected].copy(deep=True)\n",
    "        cleaned['shear'] = np.repeat(shear, len(cleaned))\n",
    "        cleaned.to_parquet(basefile.replace('.parq', f\"_cleaned_{tract}_{type_}.pq\"))"
   ]
  },
  {
   "cell_type": "code",
   "execution_count": null,
   "id": "f6b85cc1-0af2-4fd6-be8c-52c4d635b124",
   "metadata": {},
   "outputs": [],
   "source": [
    "shear_value_strs = ['0p0025', '0p005', '0p01', '0p02', '0p04']\n",
    "shear_values = [0.0025, 0.005, 0.01, 0.02, 0.04]\n",
    "cat_types = ['wmom', 'gauss', 'pgauss']\n",
    "tracts = [10463, 10705]"
   ]
  },
  {
   "cell_type": "code",
   "execution_count": null,
   "id": "93fd7d69-918c-40d1-ac96-d087f1dd5f42",
   "metadata": {},
   "outputs": [],
   "source": [
    "for tract_ in tracts:\n",
    "    for shear_st_, shear_ in zip(shear_value_strs, shear_values):\n",
    "        for cat_type_ in cat_types:\n",
    "            split_by_type_and_clean(f\"shear_tract/shear_{cat_type_}_{shear_st_}.parq\", tract_, cat_type_, shear=shear_)"
   ]
  },
  {
   "cell_type": "code",
   "execution_count": null,
   "id": "31ffc583-8548-4f46-bcd0-1e32774243f7",
   "metadata": {},
   "outputs": [],
   "source": []
  }
 ],
 "metadata": {
  "kernelspec": {
   "display_name": "Python 3 (ipykernel)",
   "language": "python",
   "name": "python3"
  },
  "language_info": {
   "codemirror_mode": {
    "name": "ipython",
    "version": 3
   },
   "file_extension": ".py",
   "mimetype": "text/x-python",
   "name": "python",
   "nbconvert_exporter": "python",
   "pygments_lexer": "ipython3",
   "version": "3.12.9"
  }
 },
 "nbformat": 4,
 "nbformat_minor": 5
}
