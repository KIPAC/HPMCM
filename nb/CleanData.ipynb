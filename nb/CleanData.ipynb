{
 "cells": [
  {
   "cell_type": "code",
   "execution_count": null,
   "id": "73ca46d0-4f40-47db-b33a-883593ec5cd1",
   "metadata": {},
   "outputs": [],
   "source": [
    "import numpy as np\n",
    "import tables_io"
   ]
  },
  {
   "cell_type": "code",
   "execution_count": null,
   "id": "1e03a72e-9f94-48e9-b596-5e8149ea2b95",
   "metadata": {},
   "outputs": [],
   "source": [
    "def split_by_type_and_clean(basefile, types=['ns', '1m', '2m', '1p', '2p'], shear=0.01):\n",
    "    p = tables_io.read(basefile)\n",
    "    for type_ in types:\n",
    "        mask = p['shear_type'] == type_\n",
    "        sub = p[mask]\n",
    "        idx_x = 20*sub['patch_x'].values + sub['cell_x'].values\n",
    "        idx_y = 20*sub['patch_y'].values + sub['cell_y'].values\n",
    "        cent_x = 150*idx_x -75\n",
    "        cent_y = 150*idx_y -75\n",
    "        local_x = sub['col'] - cent_x\n",
    "        local_y = sub['row'] - cent_y\n",
    "        central_to_cell = np.bitwise_and(np.fabs(local_x) < 75, np.fabs(local_y) < 75)\n",
    "        central_to_patch = np.bitwise_and(np.fabs(sub['cell_x'].values - 10.5) < 10, np.fabs(sub['cell_y'].values - 10.5) < 10)\n",
    "        central = np.bitwise_and(central_to_cell, central_to_patch)\n",
    "        cleaned = sub[central]\n",
    "        cleaned['shear'] = np.repeat(shear, len(cleaned))\n",
    "        cleaned.to_parquet(basefile.replace('.parq', f\"_cleaned_{type_}.pq\"))"
   ]
  },
  {
   "cell_type": "code",
   "execution_count": null,
   "id": "f6b85cc1-0af2-4fd6-be8c-52c4d635b124",
   "metadata": {},
   "outputs": [],
   "source": [
    "shear_value_strs = ['0p0025', '0p005', '0p01', '0p02', '0p04']\n",
    "shear_values = [0.0025, 0.005, 0.01, 0.02, 0.04]"
   ]
  },
  {
   "cell_type": "code",
   "execution_count": null,
   "id": "93fd7d69-918c-40d1-ac96-d087f1dd5f42",
   "metadata": {},
   "outputs": [],
   "source": [
    "for shear_st_, shear_ in zip(shear_value_strs, shear_values):\n",
    "    split_by_type_and_clean(f\"shear_tract/shear_wmom_{shear_st_}.parq\", shear=shear_)"
   ]
  },
  {
   "cell_type": "code",
   "execution_count": null,
   "id": "656b3b8b-ce8f-4444-8a5f-ffcd968fcee5",
   "metadata": {},
   "outputs": [],
   "source": []
  }
 ],
 "metadata": {
  "kernelspec": {
   "display_name": "Python 3 (ipykernel)",
   "language": "python",
   "name": "python3"
  },
  "language_info": {
   "codemirror_mode": {
    "name": "ipython",
    "version": 3
   },
   "file_extension": ".py",
   "mimetype": "text/x-python",
   "name": "python",
   "nbconvert_exporter": "python",
   "pygments_lexer": "ipython3",
   "version": "3.11.11"
  }
 },
 "nbformat": 4,
 "nbformat_minor": 5
}
