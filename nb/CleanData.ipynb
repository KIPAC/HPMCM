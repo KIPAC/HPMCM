{
 "cells": [
  {
   "cell_type": "markdown",
   "id": "f44c5d9f-023b-4351-b7b6-9ba4a5b51b07",
   "metadata": {},
   "source": [
    "## Clean the input shear catalogs"
   ]
  },
  {
   "cell_type": "code",
   "execution_count": null,
   "id": "f54616a7-94b7-4635-94a0-e883d5349f32",
   "metadata": {},
   "outputs": [],
   "source": [
    "import numpy as np\n",
    "import tables_io\n",
    "from hpmcm import shear_utils"
   ]
  },
  {
   "cell_type": "code",
   "execution_count": null,
   "id": "1e03a72e-9f94-48e9-b596-5e8149ea2b95",
   "metadata": {},
   "outputs": [],
   "source": []
  },
  {
   "cell_type": "code",
   "execution_count": null,
   "id": "f6b85cc1-0af2-4fd6-be8c-52c4d635b124",
   "metadata": {},
   "outputs": [],
   "source": [
    "shear_value_strs = ['0p0025', '0p005', '0p01', '0p02', '0p04']\n",
    "shear_values = [0.0025, 0.005, 0.01, 0.02, 0.04]\n",
    "cat_types = ['wmom', 'gauss', 'pgauss']\n",
    "tracts = [10463, 10705]"
   ]
  },
  {
   "cell_type": "code",
   "execution_count": null,
   "id": "93fd7d69-918c-40d1-ac96-d087f1dd5f42",
   "metadata": {},
   "outputs": [],
   "source": [
    "for tract_ in tracts:\n",
    "    for shear_st_, shear_ in zip(shear_value_strs, shear_values):\n",
    "        for cat_type_ in cat_types:\n",
    "            outFile = f\"shear_tract/shear_{cat_type_}_{shear_st_}.parq\"\n",
    "            print(f\"Running {outFile} {tract_}\")\n",
    "            shear_utils.splitByTypeAndClean(outFile, tract_, shear=shear_, catType=cat_type_, clean=True)"
   ]
  },
  {
   "cell_type": "code",
   "execution_count": null,
   "id": "31ffc583-8548-4f46-bcd0-1e32774243f7",
   "metadata": {},
   "outputs": [],
   "source": []
  },
  {
   "cell_type": "code",
   "execution_count": null,
   "id": "dd3a408f-ef9e-48f3-b9bb-61798889099b",
   "metadata": {},
   "outputs": [],
   "source": []
  }
 ],
 "metadata": {
  "kernelspec": {
   "display_name": "Python 3 (ipykernel)",
   "language": "python",
   "name": "python3"
  },
  "language_info": {
   "codemirror_mode": {
    "name": "ipython",
    "version": 3
   },
   "file_extension": ".py",
   "mimetype": "text/x-python",
   "name": "python",
   "nbconvert_exporter": "python",
   "pygments_lexer": "ipython3",
   "version": "3.12.9"
  }
 },
 "nbformat": 4,
 "nbformat_minor": 5
}
