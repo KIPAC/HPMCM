{
 "cells": [
  {
   "cell_type": "code",
   "execution_count": null,
   "id": "1e37aad0-92d1-4599-812a-371ec64c1c3d",
   "metadata": {},
   "outputs": [],
   "source": [
    "import numpy as np\n",
    "import matplotlib.pyplot as plt\n",
    "import hpmcm"
   ]
  },
  {
   "cell_type": "code",
   "execution_count": null,
   "id": "53e7b62d-ad51-46fd-880d-681cea1ceeca",
   "metadata": {},
   "outputs": [],
   "source": [
    "TRACTS = [10463, 10705]\n",
    "SHEAR_TYPES = ['gauss', 'pgauss', 'wmom']\n",
    "SHEAR_STRINGS = ['0p0025', '0p005', '0p01', '0p02', '0p04']\n",
    "SHEARS = [0.0025, 0.005, 0.01, 0.02, 0.04]"
   ]
  },
  {
   "cell_type": "code",
   "execution_count": null,
   "id": "140648fc-8598-49b8-90b9-2b420924354f",
   "metadata": {},
   "outputs": [],
   "source": [
    "st = SHEAR_TYPES[0]\n",
    "which_shear = 2\n",
    "shear_st_ = SHEAR_STRINGS[which_shear]\n",
    "shear = SHEARS[which_shear]\n",
    "tract = TRACTS[0]"
   ]
  },
  {
   "cell_type": "code",
   "execution_count": null,
   "id": "838c5e6a-688a-468b-9e05-8e7322df3d1e",
   "metadata": {},
   "outputs": [],
   "source": [
    "dd = hpmcm.ShearData.load(f\"plots/shear_{st}_{shear_st_}_match_{tract}.pkl\")"
   ]
  },
  {
   "cell_type": "code",
   "execution_count": null,
   "id": "6ea7e7b5-d212-4fff-b481-12f197652927",
   "metadata": {},
   "outputs": [],
   "source": [
    "dd.makePlots()"
   ]
  },
  {
   "cell_type": "code",
   "execution_count": null,
   "id": "b0335d4a-95a4-4f12-80c8-44065473d69a",
   "metadata": {},
   "outputs": [],
   "source": [
    "if st == \"pgauss\":\n",
    "    central = slice(9800,10200)\n",
    "    centralEdges = slice(9800,10201)            \n",
    "elif st == \"wmom\":\n",
    "    central = slice(950,1050)\n",
    "    centralEdges = slice(950,1051)            \n",
    "else:\n",
    "    central = slice(800,1200)\n",
    "    centralEdges = slice(800,1201)            \n",
    "\n",
    "for shear_st_ in SHEAR_STRINGS:\n",
    "    dd = hpmcm.ShearData.load(f\"plots/shear_{st}_{shear_st_}_match_{tract}.pkl\")\n",
    "    central = dd.hists.central\n",
    "    centralEdges = dd.hists.centralEdges\n",
    "    binEdges = dd.hists.binEdges\n",
    "    _ = plt.stairs(dd.hists.good_delta_g_1_1[central], binEdges[centralEdges], label=f\"{st} {shear_st_} 1\")\n",
    "    _ = plt.stairs(dd.hists.good_delta_g_2_2[central], binEdges[centralEdges], label=f\"{st} {shear_st_} 2\")\n",
    "_ = plt.legend()"
   ]
  },
  {
   "cell_type": "code",
   "execution_count": null,
   "id": "4afcb5c4-5eb4-47a6-a549-91f7a2ce0bc6",
   "metadata": {},
   "outputs": [],
   "source": [
    "for shear_st_ in SHEAR_STRINGS:\n",
    "    dd = hpmcm.ShearData.load(f\"plots/shear_{st}_{shear_st_}_match_{tract}.pkl\")\n",
    "    _ = plt.stairs(dd.hists.good_delta_g_1_1[800:1200], dd.hists.binEdges[800:1201], label=f\"{st} {shear_st_} 1\")\n",
    "    _ = plt.stairs(dd.hists.good_delta_g_2_2[800:1200], dd.hists.binEdges[800:1201], label=f\"{st} {shear_st_} 2\")\n",
    "_ = plt.legend()"
   ]
  },
  {
   "cell_type": "code",
   "execution_count": null,
   "id": "ae3804b8-a71e-4c87-b536-b08f11dacffa",
   "metadata": {},
   "outputs": [],
   "source": []
  }
 ],
 "metadata": {
  "kernelspec": {
   "display_name": "Python 3 (ipykernel)",
   "language": "python",
   "name": "python3"
  },
  "language_info": {
   "codemirror_mode": {
    "name": "ipython",
    "version": 3
   },
   "file_extension": ".py",
   "mimetype": "text/x-python",
   "name": "python",
   "nbconvert_exporter": "python",
   "pygments_lexer": "ipython3",
   "version": "3.12.9"
  }
 },
 "nbformat": 4,
 "nbformat_minor": 5
}
