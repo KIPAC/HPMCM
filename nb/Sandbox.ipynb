{
 "cells": [
  {
   "cell_type": "code",
   "execution_count": null,
   "id": "007b704b-10d9-4e1f-a523-623ee25ff5fc",
   "metadata": {},
   "outputs": [],
   "source": [
    "import hpmcm\n",
    "import tables_io\n",
    "import glob\n",
    "import os\n",
    "import numpy as np\n",
    "import matplotlib.pyplot as plt"
   ]
  },
  {
   "cell_type": "code",
   "execution_count": null,
   "id": "d914c6ec-3a36-47b0-bc8f-527546036ac3",
   "metadata": {},
   "outputs": [],
   "source": [
    "DATADIR = \"shear_tract\"\n",
    "shear_st = \"0p01\"\n",
    "SOURCE_TABLEFILES = sorted(glob.glob(os.path.join(DATADIR, f\"shear_wmom_{shear_st}_cleaned_*.pq\")))\n",
    "SOURCE_TABLEFILES.reverse()\n",
    "VISIT_IDS = np.arange(len(SOURCE_TABLEFILES))\n",
    "\n",
    "REF_DIR = (37.91729, 6.94389)  # RA, DEC in deg\n",
    "REGION_SIZE = (1.2, 1.2)  # in Deg\n",
    "PIXEL_SIZE = 1. / 3600. # in Deg = 0.5\"\n",
    "CELL_SIZE = 400 # in Pixels\n",
    "PIXEL_R2CUT = 0.5"
   ]
  },
  {
   "cell_type": "code",
   "execution_count": null,
   "id": "b9aba713-9c93-4e35-805f-63d46f33b309",
   "metadata": {},
   "outputs": [],
   "source": [
    "CELL_SIZE"
   ]
  },
  {
   "cell_type": "code",
   "execution_count": null,
   "id": "62a3db0c-647f-49fd-8dc9-8716764d9870",
   "metadata": {},
   "outputs": [],
   "source": [
    "SOURCE_TABLEFILES"
   ]
  },
  {
   "cell_type": "code",
   "execution_count": null,
   "id": "9a1cfd98-4c96-44c3-8621-de8b262fe445",
   "metadata": {},
   "outputs": [],
   "source": [
    "matcher = hpmcm.Match.create(REF_DIR, REGION_SIZE, PIXEL_SIZE, pixelR2Cut=PIXEL_R2CUT, cellSize=CELL_SIZE)"
   ]
  },
  {
   "cell_type": "code",
   "execution_count": null,
   "id": "35f1b965-112a-4090-a388-6db158e3701a",
   "metadata": {},
   "outputs": [],
   "source": [
    "matcher.reduceData(SOURCE_TABLEFILES, VISIT_IDS)"
   ]
  },
  {
   "cell_type": "code",
   "execution_count": null,
   "id": "a9a4d3a1-059f-4b5e-b925-4ebfca83bb41",
   "metadata": {},
   "outputs": [],
   "source": [
    "oDict = matcher.analyzeCell(4, 4, True)"
   ]
  },
  {
   "cell_type": "code",
   "execution_count": null,
   "id": "48b0df43-0146-49b7-b836-f9930a2f8e03",
   "metadata": {},
   "outputs": [],
   "source": [
    "cellData = oDict['cellData']\n",
    "cd = cellData._clusterDict\n",
    "od = cellData._objectDict\n",
    "all_clusters = list(cd.keys())\n",
    "idx = list(cd.keys())[0]\n",
    "image = oDict['image']\n",
    "cluster = cd[idx]\n"
   ]
  },
  {
   "cell_type": "code",
   "execution_count": null,
   "id": "dadef175-c28e-4ab4-89e8-0e1e71f04150",
   "metadata": {},
   "outputs": [],
   "source": [
    "image"
   ]
  },
  {
   "cell_type": "code",
   "execution_count": null,
   "id": "33d2e264-a2cd-479d-88b8-85ed472558a2",
   "metadata": {},
   "outputs": [],
   "source": [
    "def showObjects(img, cluster, cellData):\n",
    "    extent = (0, cluster._footprint.getBBox().getWidth(),\n",
    "              0, cluster._footprint.getBBox().getHeight())\n",
    "    cluster.extract(cellData)\n",
    "    xOffset = cellData._minPix[0] + cluster._footprint.getBBox().getBeginY()\n",
    "    yOffset = cellData._minPix[1] + cluster._footprint.getBBox().getBeginX()\n",
    "    xOff = cluster.data.xPix - xOffset\n",
    "    yOff = cluster.data.yPix - yOffset\n",
    "    catIndices = cluster.catIndices\n",
    "    img = plt.imshow(image[cluster._footprint.getBBox()].array, origin='lower', extent=extent)\n",
    "    cb = plt.colorbar()\n",
    "    colors = ['red', 'blue', 'green', 'cyan', 'orange']\n",
    "    markers = ['.', '<', '>', 'v', '^']\n",
    "    for iObj, obj in enumerate(cluster.objects):\n",
    "        xC = obj._xCent - xOffset\n",
    "        yC = obj._yCent - yOffset\n",
    "        for x_, y_, i_ in zip(yOff[obj._mask], xOff[obj._mask], catIndices[obj._mask]):\n",
    "            img.axes.scatter(x_, y_, c=colors[iObj%5], marker=markers[i_ % 5])\n",
    "    return img.axes.figure\n"
   ]
  },
  {
   "cell_type": "code",
   "execution_count": null,
   "id": "29a79b8e-9de5-4ccf-b224-125137c2b8d1",
   "metadata": {},
   "outputs": [],
   "source": [
    "oDict['cellData']._maxPix"
   ]
  },
  {
   "cell_type": "code",
   "execution_count": null,
   "id": "cb0a4fbc-a658-49f4-b4ee-cf4c72b51cfa",
   "metadata": {},
   "outputs": [],
   "source": [
    "bad = []\n",
    "for k, c in cd.items():\n",
    "    if c.nSrc != c.nUnique:\n",
    "        bad.append(k)"
   ]
  },
  {
   "cell_type": "code",
   "execution_count": null,
   "id": "13acdf0e-6812-442a-b694-b64f61b9a12d",
   "metadata": {},
   "outputs": [],
   "source": [
    "cd[bad[0]].data"
   ]
  },
  {
   "cell_type": "code",
   "execution_count": null,
   "id": "d5718461-f8c7-4f28-99c3-6385f09f2655",
   "metadata": {},
   "outputs": [],
   "source": [
    "_ = showObjects(image, cd[bad[2]], cellData)"
   ]
  },
  {
   "cell_type": "code",
   "execution_count": null,
   "id": "83b9aeb9-f67a-4d06-8709-c927d0e225b7",
   "metadata": {},
   "outputs": [],
   "source": [
    "nsrcs = []\n",
    "for k, c in cd.items():\n",
    "    nsrcs.append(c._nSrc)    \n",
    "\n",
    "ideal = []\n",
    "mixed = []\n",
    "edge_mixed = []\n",
    "edge_missing = []\n",
    "edge_extra = []\n",
    "\n",
    "missing = []\n",
    "two_missing = []\n",
    "three_missing = []\n",
    "single = []\n",
    "extra = []\n",
    "faint = []\n",
    "\n",
    "for k, c in cd.items():\n",
    "    edge_case = False\n",
    "    if (np.fabs(c.data.xCell_coadd) > 73).any() or (np.fabs(c.data.yCell_coadd) > 73).any():\n",
    "        edge_case = True\n",
    "    if c._nSrc == c._nUnique and c._nSrc == 5:\n",
    "        ideal.append(k)\n",
    "    elif c._nSrc == 5 and c._nUnique != 5 and edge_case:\n",
    "        edge_mixed.append(k)\n",
    "    elif c._nSrc == 5 and c._nUnique != 5:\n",
    "        mixed.append(k)\n",
    "    elif c._nSrc < 5 and edge_case:\n",
    "        edge_missing.append(k)\n",
    "    elif c._nSrc > 5 and edge_case:\n",
    "        edge_extra.append(k)    \n",
    "    elif c._nSrc < 5 and (c.data.SNR < 7.5).any():\n",
    "        faint.append(k)\n",
    "    elif c._nSrc == 4:\n",
    "        missing.append(k)\n",
    "    elif c._nSrc == 3:\n",
    "        two_missing.append(k)\n",
    "    elif c._nSrc == 2:\n",
    "        three_missing.append(k)\n",
    "    elif c._nSrc < 2:\n",
    "        single.append(k)\n",
    "    elif c._nSrc > 5:\n",
    "        extra.append(k)\n",
    "\n"
   ]
  },
  {
   "cell_type": "code",
   "execution_count": null,
   "id": "ab9aaad4-d061-410f-8dbb-46244d8bd7e4",
   "metadata": {},
   "outputs": [],
   "source": [
    "print(\"All clusters:                                  \", len(cellData._clusterDict))\n",
    "print(\"good (5 source from 5 catalogs):               \", len(ideal))\n",
    "print(\"mixed (5 source from < 5 catalogs):            \", len(mixed))\n",
    "print(\"edge_mixed (mixed near edge of cell):          \", len(edge_mixed))\n",
    "print(\"edge_missing (< 5 sources, near edge of cell): \", len(edge_missing))\n",
    "print(\"edge_extra (> 5 sources, near edge of cell):   \", len(edge_extra))\n",
    "print(\"faint (< 5 sources, SNR < 5):                  \", len(faint))\n",
    "print(\"one missing (4 sources, not near edge):        \", len(missing))\n",
    "print(\"two missing (3 sources, not near edge):        \", len(two_missing))\n",
    "print(\"three missing (2 sources, not near edge):      \", len(three_missing))\n",
    "print(\"single  (1 source, not near edge):             \", len(single))\n",
    "print(\"extra (> 5 sources, not near edge):            \", len(extra))"
   ]
  },
  {
   "cell_type": "code",
   "execution_count": null,
   "id": "8cbe49dc-0510-4f5e-aa7b-d16cdcd7a8b2",
   "metadata": {},
   "outputs": [],
   "source": [
    "obj_nsrcs = []\n",
    "for k, c in od.items():\n",
    "    obj_nsrcs.append(c._nSrc)    \n",
    "\n",
    "obj_faint_snr = []\n",
    "obj_ideal = []\n",
    "obj_ideal_faint = []\n",
    "obj_mixed = []\n",
    "obj_edge_mixed = []\n",
    "obj_edge_missing = []\n",
    "obj_edge_extra = []\n",
    "\n",
    "obj_missing = []\n",
    "obj_two_missing = []\n",
    "obj_three_missing = []\n",
    "obj_single = []\n",
    "obj_orphan = []\n",
    "obj_extra = []\n",
    "obj_faint = []\n",
    "\n",
    "for k, c in od.items():\n",
    "    edge_case = False\n",
    "    if (np.fabs(c._data.xCell_coadd) > 73).any() or (np.fabs(c._data.yCell_coadd) > 73).any():\n",
    "        edge_case = True\n",
    "    if c._nSrc == c._nUnique and c._nSrc == 5 and (c._data.SNR < 7.5).any():\n",
    "        obj_ideal_faint.append(k)\n",
    "    elif c._nSrc == c._nUnique and c._nSrc == 5:\n",
    "        obj_ideal.append(k)\n",
    "    elif c._nSrc == 5 and c._nUnique != 5 and edge_case:\n",
    "        obj_edge_mixed.append(k)\n",
    "    elif c._nSrc == 5 and c._nUnique != 5:\n",
    "        obj_mixed.append(k)\n",
    "    elif c._nSrc < 5 and edge_case:\n",
    "        obj_edge_missing.append(k)\n",
    "    elif c._nSrc > 5 and edge_case:\n",
    "        obj_edge_extra.append(k)    \n",
    "    elif c._nSrc < 5 and (c._data.SNR < 7.5).any():\n",
    "        obj_faint_snr.append(c._data.SNR.mean())\n",
    "        obj_faint.append(k)\n",
    "    elif c._nSrc < 5 and c._parentCluster._nSrc >= 5:\n",
    "        obj_orphan.append(k)\n",
    "    elif c._nSrc == 4:\n",
    "        obj_missing.append(k)\n",
    "    elif c._nSrc == 3:\n",
    "        obj_two_missing.append(k)\n",
    "    elif c._nSrc == 2:\n",
    "        obj_three_missing.append(k)\n",
    "    elif c._nSrc < 2:\n",
    "        obj_single.append(k)\n",
    "    elif c._nSrc > 5:\n",
    "        obj_extra.append(k)\n"
   ]
  },
  {
   "cell_type": "code",
   "execution_count": null,
   "id": "0422adb9-064f-46ff-9e46-2852299e16ac",
   "metadata": {},
   "outputs": [],
   "source": [
    "print(\"All Objects:                                   \", len(od))\n",
    "print(\"good (5 source from 5 catalogs):               \", len(obj_ideal))\n",
    "print(\"good faint                                     \", len(obj_ideal_faint))\n",
    "print(\"mixed (5 source from < 5 catalogs):            \", len(obj_mixed))\n",
    "print(\"edge_mixed (mixed near edge of cell):          \", len(obj_edge_mixed))\n",
    "print(\"edge_missing (< 5 sources, near edge of cell): \", len(obj_edge_missing))\n",
    "print(\"edge_extra (> 5 sources, near edge of cell):   \", len(obj_edge_extra))\n",
    "print(\"faint (< 5 sources, SNR < 5):                  \", len(obj_faint))\n",
    "print(\"orphan (split off from larger cluster          \", len(obj_orphan))\n",
    "print(\"one missing (4 sources, not near edge):        \", len(obj_missing))\n",
    "print(\"two missing (3 sources, not near edge):        \", len(obj_two_missing))\n",
    "print(\"three missing (2 sources, not near edge):      \", len(obj_three_missing))\n",
    "print(\"single  (1 source, not near edge):             \", len(obj_single))\n",
    "print(\"extra (> 5 sources, not near edge):            \", len(obj_extra))"
   ]
  },
  {
   "cell_type": "code",
   "execution_count": null,
   "id": "35850800-5e7a-41c4-b3f3-595fa30e8602",
   "metadata": {},
   "outputs": [],
   "source": [
    "_ = showObjects(image, od[obj_edge_extra[0]]._parentCluster, cellData)"
   ]
  },
  {
   "cell_type": "code",
   "execution_count": null,
   "id": "d48fe586-d8e4-469d-9d11-c1243dc6fc07",
   "metadata": {},
   "outputs": [],
   "source": [
    "od[edge_mixed[3]]._nUnique"
   ]
  },
  {
   "cell_type": "code",
   "execution_count": null,
   "id": "2bb32e57-a001-4ccc-8b80-60ab3d4d3b75",
   "metadata": {},
   "outputs": [],
   "source": [
    "cd[extra[0]].data"
   ]
  },
  {
   "cell_type": "code",
   "execution_count": null,
   "id": "4a94b946-b8b5-41e0-b312-2c59bb6de29b",
   "metadata": {},
   "outputs": [],
   "source": []
  },
  {
   "cell_type": "code",
   "execution_count": null,
   "id": "11e6a8fb-124b-4a2a-aabc-32977e250af1",
   "metadata": {},
   "outputs": [],
   "source": []
  }
 ],
 "metadata": {
  "kernelspec": {
   "display_name": "Python 3 (ipykernel)",
   "language": "python",
   "name": "python3"
  },
  "language_info": {
   "codemirror_mode": {
    "name": "ipython",
    "version": 3
   },
   "file_extension": ".py",
   "mimetype": "text/x-python",
   "name": "python",
   "nbconvert_exporter": "python",
   "pygments_lexer": "ipython3",
   "version": "3.12.9"
  }
 },
 "nbformat": 4,
 "nbformat_minor": 5
}
