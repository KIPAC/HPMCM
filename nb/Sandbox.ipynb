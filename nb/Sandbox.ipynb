{
 "cells": [
  {
   "cell_type": "code",
   "execution_count": null,
   "id": "007b704b-10d9-4e1f-a523-623ee25ff5fc",
   "metadata": {},
   "outputs": [],
   "source": [
    "import hpmcm\n",
    "import tables_io\n",
    "import glob\n",
    "import os\n",
    "import numpy as np\n",
    "import matplotlib.pyplot as plt"
   ]
  },
  {
   "cell_type": "code",
   "execution_count": null,
   "id": "d914c6ec-3a36-47b0-bc8f-527546036ac3",
   "metadata": {},
   "outputs": [],
   "source": [
    "DATADIR = \"shear_tract\"\n",
    "shear_st = \"0p01\"\n",
    "SOURCE_TABLEFILES = sorted(glob.glob(os.path.join(DATADIR, f\"shear_wmom_{shear_st}_cleaned_*.pq\")))\n",
    "SOURCE_TABLEFILES.reverse()\n",
    "VISIT_IDS = np.arange(len(SOURCE_TABLEFILES))\n",
    "\n",
    "REF_DIR = (37.91729, 6.94389)  # RA, DEC in deg\n",
    "REGION_SIZE = (1.2, 1.2)  # in Deg\n",
    "#CELL_SIZE = 5.0e-5    # in Deg\n",
    "CELL_SIZE = 1. / (3600*2) # in Deg = 0.5\"\n",
    "#SUBREGION_SIZE = 2700 # in Pixels\n",
    "SUBREGION_SIZE = 1350 # in Pixels\n",
    "PIXEL_R2CUT = 1."
   ]
  },
  {
   "cell_type": "code",
   "execution_count": null,
   "id": "62a3db0c-647f-49fd-8dc9-8716764d9870",
   "metadata": {},
   "outputs": [],
   "source": [
    "SOURCE_TABLEFILES"
   ]
  },
  {
   "cell_type": "code",
   "execution_count": null,
   "id": "9a1cfd98-4c96-44c3-8621-de8b262fe445",
   "metadata": {},
   "outputs": [],
   "source": [
    "matcher = hpmcm.Match.create(REF_DIR, REGION_SIZE, CELL_SIZE, pixelR2Cut=PIXEL_R2CUT, subRegionSize=SUBREGION_SIZE)"
   ]
  },
  {
   "cell_type": "code",
   "execution_count": null,
   "id": "35f1b965-112a-4090-a388-6db158e3701a",
   "metadata": {},
   "outputs": [],
   "source": [
    "matcher.reduceData(SOURCE_TABLEFILES, VISIT_IDS)"
   ]
  },
  {
   "cell_type": "code",
   "execution_count": null,
   "id": "ad25c56e-a071-4d5a-9ab5-1077b361bb9e",
   "metadata": {},
   "outputs": [],
   "source": [
    "matcher._redData[0]"
   ]
  },
  {
   "cell_type": "code",
   "execution_count": null,
   "id": "a9a4d3a1-059f-4b5e-b925-4ebfca83bb41",
   "metadata": {},
   "outputs": [],
   "source": [
    "oDict = matcher.analyzeCell(2, 2, True)"
   ]
  },
  {
   "cell_type": "code",
   "execution_count": null,
   "id": "48b0df43-0146-49b7-b836-f9930a2f8e03",
   "metadata": {},
   "outputs": [],
   "source": [
    "cellData = oDict['cellData']\n",
    "cd = cellData._clusterDict\n",
    "all_clusters = list(cd.keys())\n",
    "idx = list(cd.keys())[0]\n",
    "image = oDict['image']\n",
    "cluster = cd[idx]\n"
   ]
  },
  {
   "cell_type": "code",
   "execution_count": null,
   "id": "33d2e264-a2cd-479d-88b8-85ed472558a2",
   "metadata": {},
   "outputs": [],
   "source": [
    "def showObjects(img, cluster, cellData):\n",
    "    extent = (0, cluster._footprint.getBBox().getWidth(),\n",
    "              0, cluster._footprint.getBBox().getHeight())\n",
    "    cluster.extract(cellData)\n",
    "    xOffset = cellData._minPix[0] + cluster._footprint.getBBox().getBeginY()\n",
    "    yOffset = cellData._minPix[1] + cluster._footprint.getBBox().getBeginX()\n",
    "    xOff = cluster.xCell - xOffset\n",
    "    yOff = cluster.yCell - yOffset\n",
    "    img = plt.imshow(image[cluster._footprint.getBBox()].array, origin='lower', extent=extent)\n",
    "    cb = plt.colorbar()\n",
    "    colors = ['red', 'blue', 'green', 'cyan', 'orange']\n",
    "    for iObj, obj in enumerate(cluster.objects):\n",
    "        xC = obj._xCent - xOffset\n",
    "        yC = obj._yCent - yOffset\n",
    "        img.axes.scatter(yOff[obj._mask], xOff[obj._mask], c=colors[iObj%5])\n",
    "        img.axes.scatter(yC, xC, marker='+', c=colors[iObj % 6])\n",
    "    return img.axes.figure\n"
   ]
  },
  {
   "cell_type": "code",
   "execution_count": null,
   "id": "29a79b8e-9de5-4ccf-b224-125137c2b8d1",
   "metadata": {},
   "outputs": [],
   "source": [
    "oDict['cellData'].data[0]"
   ]
  },
  {
   "cell_type": "code",
   "execution_count": null,
   "id": "d5718461-f8c7-4f28-99c3-6385f09f2655",
   "metadata": {},
   "outputs": [],
   "source": [
    "_ = showObjects(image, cd[all_clusters[7]], cellData)"
   ]
  },
  {
   "cell_type": "code",
   "execution_count": null,
   "id": "83b9aeb9-f67a-4d06-8709-c927d0e225b7",
   "metadata": {},
   "outputs": [],
   "source": [
    "cd[all_clusters[7]].data"
   ]
  },
  {
   "cell_type": "code",
   "execution_count": null,
   "id": "ab9aaad4-d061-410f-8dbb-46244d8bd7e4",
   "metadata": {},
   "outputs": [],
   "source": []
  },
  {
   "cell_type": "code",
   "execution_count": null,
   "id": "c954cab0-14a5-475b-9237-4b252ec54367",
   "metadata": {},
   "outputs": [],
   "source": []
  }
 ],
 "metadata": {
  "kernelspec": {
   "display_name": "Python 3 (ipykernel)",
   "language": "python",
   "name": "python3"
  },
  "language_info": {
   "codemirror_mode": {
    "name": "ipython",
    "version": 3
   },
   "file_extension": ".py",
   "mimetype": "text/x-python",
   "name": "python",
   "nbconvert_exporter": "python",
   "pygments_lexer": "ipython3",
   "version": "3.11.11"
  }
 },
 "nbformat": 4,
 "nbformat_minor": 5
}
