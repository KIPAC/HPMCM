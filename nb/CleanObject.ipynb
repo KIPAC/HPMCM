{
 "cells": [
  {
   "cell_type": "markdown",
   "id": "95debdc8-1a77-4da0-9d6c-e83728c46372",
   "metadata": {},
   "source": [
    "## Clean the input object table\n",
    "\n",
    "This is a simple utility notebook showing how to split and clean the input Object catalogs.\n",
    "\n",
    "This will remove all but the needed columns"
   ]
  },
  {
   "cell_type": "markdown",
   "id": "8594fa64-e001-4dde-a3bd-a40287c750f4",
   "metadata": {},
   "source": [
    "#### Standard imports"
   ]
  },
  {
   "cell_type": "code",
   "execution_count": null,
   "id": "7a50366e-1c67-47ba-810a-91dbb3ee1f72",
   "metadata": {},
   "outputs": [],
   "source": [
    "import tables_io\n",
    "import numpy as np"
   ]
  },
  {
   "cell_type": "markdown",
   "id": "165a9b80-702b-440b-a23c-4efb9b88c2f8",
   "metadata": {},
   "source": [
    "#### Read the input data"
   ]
  },
  {
   "cell_type": "code",
   "execution_count": null,
   "id": "ed4aedcb-9c87-4046-b5b2-e5346db67a86",
   "metadata": {},
   "outputs": [],
   "source": [
    "t = tables_io.read('/Users/echarles/xfer/object_10463_lsst_cells_v1_LSSTComCam_runs_DRP_DP1_w_2025_17_DM-50530_20250426T082611Z.parq')"
   ]
  },
  {
   "cell_type": "markdown",
   "id": "6e5bb285-7126-41f8-8b23-6e66e8cff7e2",
   "metadata": {},
   "source": [
    "#### Copy only the needed columns"
   ]
  },
  {
   "cell_type": "code",
   "execution_count": null,
   "id": "bfe1979e-0536-4db9-9ce0-c90440c55bee",
   "metadata": {},
   "outputs": [],
   "source": [
    "cols = ['tract', 'patch', 'coord_ra', 'coord_dec', 'objectId']\n",
    "cols += [f\"{band}_gaapPsfFlux\" for band in 'ugrizy']\n",
    "cols += [f\"{band}_gaapPsfFluxErr\" for band in 'ugrizy']\n",
    "cols += [f\"{band}_extendedness\" for band in 'gri']\n",
    "tout = t[cols].copy(deep=True)"
   ]
  },
  {
   "cell_type": "markdown",
   "id": "227eac37-7199-4880-ad26-a529491596fc",
   "metadata": {},
   "source": [
    "#### Define new columns"
   ]
  },
  {
   "cell_type": "code",
   "execution_count": null,
   "id": "97768b6a-5e23-4519-bdf3-94a565253f99",
   "metadata": {},
   "outputs": [],
   "source": [
    "tout['ra'] = tout['coord_ra']\n",
    "tout['dec'] = tout['coord_dec']\n",
    "tout['SNR'] = np.where(np.isfinite(tout['r_gaapPsfFlux']),  tout['r_gaapPsfFlux'] / tout['i_gaapPsfFluxErr'], 0)\n",
    "tout['id'] = tout['objectId']"
   ]
  },
  {
   "cell_type": "markdown",
   "id": "b93838e6-af00-43ad-8625-7f13e2fdeda1",
   "metadata": {},
   "source": [
    "#### Write the output"
   ]
  },
  {
   "cell_type": "code",
   "execution_count": null,
   "id": "77453438-2701-4ac4-a4d2-b77c0311712a",
   "metadata": {},
   "outputs": [],
   "source": [
    "tout.to_parquet('shear_tract/object_10463.pq')"
   ]
  },
  {
   "cell_type": "code",
   "execution_count": null,
   "id": "2c496288-4316-4a24-8b60-144ce0905c53",
   "metadata": {},
   "outputs": [],
   "source": []
  },
  {
   "cell_type": "code",
   "execution_count": null,
   "id": "4e8bf95c-3c6f-45d8-a02e-73f68b49940a",
   "metadata": {},
   "outputs": [],
   "source": []
  }
 ],
 "metadata": {
  "kernelspec": {
   "display_name": "Python 3 (ipykernel)",
   "language": "python",
   "name": "python3"
  },
  "language_info": {
   "codemirror_mode": {
    "name": "ipython",
    "version": 3
   },
   "file_extension": ".py",
   "mimetype": "text/x-python",
   "name": "python",
   "nbconvert_exporter": "python",
   "pygments_lexer": "ipython3",
   "version": "3.12.9"
  }
 },
 "nbformat": 4,
 "nbformat_minor": 5
}
