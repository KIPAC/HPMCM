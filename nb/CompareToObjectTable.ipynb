{
 "cells": [
  {
   "cell_type": "code",
   "execution_count": null,
   "id": "9fb9df94-02bf-4788-98b5-d289f0da8b38",
   "metadata": {},
   "outputs": [],
   "source": [
    "import hpmcm\n",
    "import tables_io\n",
    "import glob\n",
    "import os\n",
    "import numpy as np\n",
    "import matplotlib.pyplot as plt"
   ]
  },
  {
   "cell_type": "code",
   "execution_count": null,
   "id": "17cd4820-7642-4f16-b226-8453adb170b9",
   "metadata": {},
   "outputs": [],
   "source": [
    "DATADIR = \"shear_tract\"\n",
    "shear_st = \"0p01\"\n",
    "\n",
    "tract = 10463\n",
    "SOURCE_TABLEFILES = sorted(glob.glob(os.path.join(DATADIR, f\"shear_*_{shear_st}_cleaned_{tract}_ns.pq\")))\n",
    "SOURCE_TABLEFILES.append(os.path.join(DATADIR, f\"object_{tract}.pq\"))\n",
    "SOURCE_TABLEFILES.reverse()\n",
    "VISIT_IDS = np.arange(len(SOURCE_TABLEFILES))\n",
    "\n",
    "REF_DIR = (37.91729, 6.94389)  # RA, DEC in deg\n",
    "REGION_SIZE = (1.5, 1.5)\n",
    "PIXEL_SIZE = 0.5\n",
    "PIXEL_R2CUT = 4.\n",
    "PIXEL_MATCH_SCALE = 1"
   ]
  },
  {
   "cell_type": "code",
   "execution_count": null,
   "id": "4393270d-6675-4cb3-a516-033516304034",
   "metadata": {},
   "outputs": [],
   "source": [
    "matcher = hpmcm.WcsMatch.create(REF_DIR, REGION_SIZE, pixSize=PIXEL_SIZE, pixelR2Cut=PIXEL_R2CUT)"
   ]
  },
  {
   "cell_type": "code",
   "execution_count": null,
   "id": "ab6220fb-21d3-4b37-9c89-041039e0651e",
   "metadata": {},
   "outputs": [],
   "source": [
    "matcher.reduceData(SOURCE_TABLEFILES, VISIT_IDS)"
   ]
  },
  {
   "cell_type": "code",
   "execution_count": null,
   "id": "c630f6e2-02b0-4527-a38f-5941040a8fd6",
   "metadata": {},
   "outputs": [],
   "source": [
    "matcher._nCell"
   ]
  },
  {
   "cell_type": "code",
   "execution_count": null,
   "id": "c731ef03-2f36-4f5e-8dd2-4520ada4213d",
   "metadata": {},
   "outputs": [],
   "source": [
    "matcher.analysisLoop()"
   ]
  },
  {
   "cell_type": "code",
   "execution_count": null,
   "id": "29e1f37e-f893-4949-b50b-e33af01a0ce5",
   "metadata": {},
   "outputs": [],
   "source": [
    "cell = matcher.cellDict[(3, 3)]\n",
    "od = cell.analyze(None, 4)\n",
    "_ = plt.imshow(od['countsMap'], origin='lower', cmap='gray_r')"
   ]
  },
  {
   "cell_type": "code",
   "execution_count": null,
   "id": "eada054c-06a2-4adc-9598-30468c52b7e2",
   "metadata": {},
   "outputs": [],
   "source": [
    "cluster = list(cell._clusterDict.values())[0]\n",
    "_ = hpmcm.viz_utils.showCluster(od['image'], cluster, cell)"
   ]
  },
  {
   "cell_type": "code",
   "execution_count": null,
   "id": "1d7df2d6-f60e-4392-a500-ecdd5ccfaea7",
   "metadata": {},
   "outputs": [],
   "source": [
    "objLists = matcher.classifyObjects()\n",
    "hpmcm.Match.printObjectTypes(objLists)"
   ]
  },
  {
   "cell_type": "code",
   "execution_count": null,
   "id": "fe6185dd-996b-43bb-8376-de8b70af7521",
   "metadata": {},
   "outputs": [],
   "source": [
    "_ = hpmcm.viz_utils.showShearObj(matcher, objLists['missing'][0])"
   ]
  },
  {
   "cell_type": "code",
   "execution_count": null,
   "id": "213a4686-0747-464b-8b05-505b7e258eb6",
   "metadata": {},
   "outputs": [],
   "source": [
    "_ = plt.scatter(matcher.fullData[2].pgauss_T, matcher.fullData[2].pgauss_psf_T)"
   ]
  },
  {
   "cell_type": "code",
   "execution_count": null,
   "id": "b635ac31-3488-454a-8fdf-3ec5a3c23130",
   "metadata": {},
   "outputs": [],
   "source": [
    "odict = matcher.matchObjectsAgainstRef(snrCut=5.)"
   ]
  },
  {
   "cell_type": "code",
   "execution_count": null,
   "id": "dbddcd73-6228-46c5-9df4-ad5a472a1429",
   "metadata": {},
   "outputs": [],
   "source": [
    "matcher.printObjectMatchTypes(odict)"
   ]
  },
  {
   "cell_type": "code",
   "execution_count": null,
   "id": "c3b8fd6b-40e4-44e3-9db2-d25039089d0f",
   "metadata": {},
   "outputs": [],
   "source": [
    "_ = plt.hist(matcher.fullData[0].SNR, bins=np.logspace(0, 4, 81), alpha=0.4, label=\"obj\")\n",
    "_ = plt.hist(matcher.fullData[1].SNR, bins=np.logspace(0, 4, 81), alpha=0.4, label=\"wmom\")\n",
    "_ = plt.hist(matcher.fullData[2].SNR, bins=np.logspace(0, 4, 81), alpha=0.4, label=\"pgauss\")\n",
    "_ = plt.hist(matcher.fullData[3].SNR, bins=np.logspace(0, 4, 81), alpha=0.4, label=\"gauss\")\n",
    "_ = plt.xscale('log')\n",
    "_ = plt.legend()"
   ]
  },
  {
   "cell_type": "code",
   "execution_count": null,
   "id": "d02e94d7-99b1-4f2d-9c4e-6a4b6dd3b8d5",
   "metadata": {},
   "outputs": [],
   "source": []
  },
  {
   "cell_type": "code",
   "execution_count": null,
   "id": "a5951872-e104-41a1-8e1f-77a6423b3c82",
   "metadata": {},
   "outputs": [],
   "source": []
  },
  {
   "cell_type": "code",
   "execution_count": null,
   "id": "3672eac6-66d9-4a73-9e8c-9ceb413efbb2",
   "metadata": {},
   "outputs": [],
   "source": []
  }
 ],
 "metadata": {
  "kernelspec": {
   "display_name": "Python 3 (ipykernel)",
   "language": "python",
   "name": "python3"
  },
  "language_info": {
   "codemirror_mode": {
    "name": "ipython",
    "version": 3
   },
   "file_extension": ".py",
   "mimetype": "text/x-python",
   "name": "python",
   "nbconvert_exporter": "python",
   "pygments_lexer": "ipython3",
   "version": "3.12.9"
  }
 },
 "nbformat": 4,
 "nbformat_minor": 5
}
