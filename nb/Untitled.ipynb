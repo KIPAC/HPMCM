{
 "cells": [
  {
   "cell_type": "code",
   "execution_count": null,
   "id": "b3fe89f9-cf35-486c-b15b-0bd9566a64d6",
   "metadata": {},
   "outputs": [],
   "source": [
    "import hpmcm\n",
    "import tables_io\n",
    "import glob\n",
    "import os\n",
    "import numpy as np\n",
    "import matplotlib.pyplot as plt"
   ]
  },
  {
   "cell_type": "code",
   "execution_count": null,
   "id": "f0ceddec-40d2-42d4-98a3-88b88dcdbd81",
   "metadata": {},
   "outputs": [],
   "source": [
    "DATADIR = \"shear_tract\"\n",
    "shear_st = \"0p01\"\n",
    "SOURCE_TABLEFILES = sorted(glob.glob(os.path.join(DATADIR, f\"shear_wmom_{shear_st}_uncleaned_*.pq\")))\n",
    "SOURCE_TABLEFILES.reverse()\n",
    "VISIT_IDS = np.arange(len(SOURCE_TABLEFILES))\n",
    "\n",
    "REF_DIR = (37.91729, 6.94389)  # RA, DEC in deg\n",
    "PIXEL_R2CUT = 2"
   ]
  },
  {
   "cell_type": "code",
   "execution_count": null,
   "id": "5662f9fc-40b9-4c75-b1a6-a66dec54ff43",
   "metadata": {},
   "outputs": [],
   "source": [
    "matcher = hpmcm.Match.createCoaddCellsForTract(pixelR2Cut=PIXEL_R2CUT)"
   ]
  },
  {
   "cell_type": "code",
   "execution_count": null,
   "id": "5f2b49c5-36cd-47a6-9480-c207fadfe552",
   "metadata": {},
   "outputs": [],
   "source": [
    "matcher.reduceData(SOURCE_TABLEFILES, VISIT_IDS)"
   ]
  },
  {
   "cell_type": "code",
   "execution_count": null,
   "id": "34f88e63-5d14-4f77-874d-6b1bc7f0be30",
   "metadata": {},
   "outputs": [],
   "source": [
    "matcher.fullData[0].xCell_coadd.max()"
   ]
  },
  {
   "cell_type": "code",
   "execution_count": null,
   "id": "70f180a5-a400-49c7-97c3-f5bac3204da5",
   "metadata": {},
   "outputs": [],
   "source": [
    "matcher.analysisLoop()"
   ]
  },
  {
   "cell_type": "code",
   "execution_count": null,
   "id": "7823d998-3192-471e-994e-0b5ae30f8fe0",
   "metadata": {},
   "outputs": [],
   "source": [
    "oDict = matcher.analyzeCell(50, 180, True)"
   ]
  },
  {
   "cell_type": "code",
   "execution_count": null,
   "id": "d11d47fb-c476-4fa8-8f34-b79d26e3fbc5",
   "metadata": {},
   "outputs": [],
   "source": [
    "cellData = oDict['cellData']\n",
    "cd = cellData._clusterDict\n",
    "od = cellData._objectDict\n",
    "all_clusters = list(cd.keys())\n",
    "idx = list(cd.keys())[0]\n",
    "image = oDict['image']\n",
    "cluster = cd[idx]"
   ]
  },
  {
   "cell_type": "code",
   "execution_count": null,
   "id": "67499c25-7c24-4765-b5b7-486082b70172",
   "metadata": {},
   "outputs": [],
   "source": [
    "nsrcs = []\n",
    "\n",
    "ideal = []\n",
    "mixed = []\n",
    "edge_mixed = []\n",
    "edge_missing = []\n",
    "edge_extra = []\n",
    "\n",
    "missing = []\n",
    "two_missing = []\n",
    "three_missing = []\n",
    "single = []\n",
    "extra = []\n",
    "faint = []\n",
    "\n",
    "cut1 = []\n",
    "cut2 = []\n",
    "\n",
    "for iC, cellData in matcher._clusters.items():\n",
    "\n",
    "    cd = cellData._clusterDict\n",
    "\n",
    "    for k, c in cd.items():\n",
    "        edge_case = False\n",
    "        if (np.fabs(c.data.xCell_coadd) > 75).all() or (np.fabs(c.data.yCell_coadd) > 75).all():\n",
    "            cut1.append(k)\n",
    "            continue\n",
    "        if np.fabs(c.data.xCell_coadd.mean()) > 75 or np.fabs(c.data.yCell_coadd.mean()) > 75:\n",
    "            cut2.append(k)\n",
    "            continue\n",
    "            \n",
    "        nsrcs.append(c._nSrc)    \n",
    "            \n",
    "        if (np.fabs(c.data.xCell_coadd) > 73).any() or (np.fabs(c.data.yCell_coadd) > 73).any():\n",
    "            edge_case = True\n",
    "        if c._nSrc == c._nUnique and c._nSrc == 5:\n",
    "            ideal.append(k)\n",
    "        elif c._nSrc == 5 and c._nUnique != 5 and edge_case:\n",
    "            edge_mixed.append(k)\n",
    "        elif c._nSrc == 5 and c._nUnique != 5:\n",
    "            mixed.append(k)\n",
    "        elif c._nSrc < 5 and edge_case:\n",
    "            edge_missing.append(k)\n",
    "        elif c._nSrc > 5 and edge_case:\n",
    "            edge_extra.append(k)    \n",
    "        elif c._nSrc < 5 and (c.data.SNR < 7.5).any():\n",
    "            faint.append(k)\n",
    "        elif c._nSrc == 4:\n",
    "            missing.append(k)\n",
    "        elif c._nSrc == 3:\n",
    "            two_missing.append(k)\n",
    "        elif c._nSrc == 2:\n",
    "            three_missing.append(k)\n",
    "        elif c._nSrc < 2:\n",
    "            single.append(k)\n",
    "        elif c._nSrc > 5:\n",
    "            extra.append(k)\n"
   ]
  },
  {
   "cell_type": "code",
   "execution_count": null,
   "id": "c24efa2e-8c18-470c-9910-9c1a761f9ad1",
   "metadata": {},
   "outputs": [],
   "source": [
    "print(\"All clusters:                                  \", len(nsrcs))\n",
    "print(\"good (5 source from 5 catalogs):               \", len(ideal))\n",
    "print(\"mixed (5 source from < 5 catalogs):            \", len(mixed))\n",
    "print(\"edge_mixed (mixed near edge of cell):          \", len(edge_mixed))\n",
    "print(\"edge_missing (< 5 sources, near edge of cell): \", len(edge_missing))\n",
    "print(\"edge_extra (> 5 sources, near edge of cell):   \", len(edge_extra))\n",
    "print(\"faint (< 5 sources, SNR < 5):                  \", len(faint))\n",
    "print(\"one missing (4 sources, not near edge):        \", len(missing))\n",
    "print(\"two missing (3 sources, not near edge):        \", len(two_missing))\n",
    "print(\"three missing (2 sources, not near edge):      \", len(three_missing))\n",
    "print(\"single  (1 source, not near edge):             \", len(single))\n",
    "print(\"extra (> 5 sources, not near edge):            \", len(extra))\n",
    "print(\"cut1                                           \", len(cut1))\n",
    "print(\"cut2                                           \", len(cut2))"
   ]
  },
  {
   "cell_type": "code",
   "execution_count": null,
   "id": "ea81732c-ef14-41dd-b010-7c51380cca06",
   "metadata": {},
   "outputs": [],
   "source": [
    "obj_nsrcs = []\n",
    "for k, c in od.items():\n",
    "    obj_nsrcs.append(c._nSrc)    \n",
    "\n",
    "obj_faint_snr = []\n",
    "obj_ideal = []\n",
    "obj_ideal_faint = []\n",
    "obj_mixed = []\n",
    "obj_edge_mixed = []\n",
    "obj_edge_missing = []\n",
    "obj_edge_extra = []\n",
    "\n",
    "obj_missing = []\n",
    "obj_two_missing = []\n",
    "obj_three_missing = []\n",
    "obj_single = []\n",
    "obj_orphan = []\n",
    "obj_extra = []\n",
    "obj_faint = []\n",
    "\n",
    "for k, c in od.items():\n",
    "    edge_case = False\n",
    "    if (np.fabs(c._data.xCell_coadd) > 73).any() or (np.fabs(c._data.yCell_coadd) > 73).any():\n",
    "        edge_case = True\n",
    "    if c._nSrc == c._nUnique and c._nSrc == 5 and (c._data.SNR < 7.5).any():\n",
    "        obj_ideal_faint.append(k)\n",
    "    elif c._nSrc == c._nUnique and c._nSrc == 5:\n",
    "        obj_ideal.append(k)\n",
    "    elif c._nSrc == 5 and c._nUnique != 5 and edge_case:\n",
    "        obj_edge_mixed.append(k)\n",
    "    elif c._nSrc == 5 and c._nUnique != 5:\n",
    "        obj_mixed.append(k)\n",
    "    elif c._nSrc < 5 and edge_case:\n",
    "        obj_edge_missing.append(k)\n",
    "    elif c._nSrc > 5 and edge_case:\n",
    "        obj_edge_extra.append(k)    \n",
    "    elif c._nSrc < 5 and (c._data.SNR < 7.5).any():\n",
    "        obj_faint_snr.append(c._data.SNR.mean())\n",
    "        obj_faint.append(k)\n",
    "    elif c._nSrc < 5 and c._parentCluster._nSrc >= 5:\n",
    "        obj_orphan.append(k)\n",
    "    elif c._nSrc == 4:\n",
    "        obj_missing.append(k)\n",
    "    elif c._nSrc == 3:\n",
    "        obj_two_missing.append(k)\n",
    "    elif c._nSrc == 2:\n",
    "        obj_three_missing.append(k)\n",
    "    elif c._nSrc < 2:\n",
    "        obj_single.append(k)\n",
    "    elif c._nSrc > 5:\n",
    "        obj_extra.append(k)\n"
   ]
  },
  {
   "cell_type": "code",
   "execution_count": null,
   "id": "cbef1449-ed83-4111-8c05-5ef8230921c1",
   "metadata": {
    "scrolled": true
   },
   "outputs": [],
   "source": [
    "print(\"All Objects:                                   \", len(od))\n",
    "print(\"good (5 source from 5 catalogs):               \", len(obj_ideal))\n",
    "print(\"good faint                                     \", len(obj_ideal_faint))\n",
    "print(\"mixed (5 source from < 5 catalogs):            \", len(obj_mixed))\n",
    "print(\"edge_mixed (mixed near edge of cell):          \", len(obj_edge_mixed))\n",
    "print(\"edge_missing (< 5 sources, near edge of cell): \", len(obj_edge_missing))\n",
    "print(\"edge_extra (> 5 sources, near edge of cell):   \", len(obj_edge_extra))\n",
    "print(\"faint (< 5 sources, SNR < 5):                  \", len(obj_faint))\n",
    "print(\"orphan (split off from larger cluster          \", len(obj_orphan))\n",
    "print(\"one missing (4 sources, not near edge):        \", len(obj_missing))\n",
    "print(\"two missing (3 sources, not near edge):        \", len(obj_two_missing))\n",
    "print(\"three missing (2 sources, not near edge):      \", len(obj_three_missing))\n",
    "print(\"single  (1 source, not near edge):             \", len(obj_single))\n",
    "print(\"extra (> 5 sources, not near edge):            \", len(obj_extra))"
   ]
  },
  {
   "cell_type": "code",
   "execution_count": null,
   "id": "e5620521-085a-420d-8395-e898d3b20391",
   "metadata": {},
   "outputs": [],
   "source": [
    "def showObjects(img, cluster, cellData):\n",
    "    extent = (0, cluster._footprint.getBBox().getWidth(),\n",
    "              0, cluster._footprint.getBBox().getHeight())\n",
    "    cluster.extract(cellData)\n",
    "    xOffset = cellData._minPix[0] + cluster._footprint.getBBox().getBeginY()\n",
    "    yOffset = cellData._minPix[1] + cluster._footprint.getBBox().getBeginX()\n",
    "    xOff = cluster.data.xPix - xOffset\n",
    "    yOff = cluster.data.yPix - yOffset\n",
    "    catIndices = cluster.catIndices\n",
    "    img = plt.imshow(image[cluster._footprint.getBBox()].array, origin='lower', extent=extent)\n",
    "    cb = plt.colorbar()\n",
    "    colors = ['red', 'blue', 'green', 'cyan', 'orange']\n",
    "    markers = ['.', '<', '>', 'v', '^']\n",
    "    for iObj, obj in enumerate(cluster.objects):\n",
    "        xC = obj._xCent - xOffset\n",
    "        yC = obj._yCent - yOffset\n",
    "        for x_, y_, i_ in zip(yOff[obj._mask], xOff[obj._mask], catIndices[obj._mask]):\n",
    "            img.axes.scatter(x_, y_, c=colors[iObj%5], marker=markers[i_ % 5])\n",
    "    return img.axes.figure\n"
   ]
  },
  {
   "cell_type": "code",
   "execution_count": null,
   "id": "10ab1ae0-bd18-4de4-98b0-a1b52bbff513",
   "metadata": {},
   "outputs": [],
   "source": [
    "_ = showObjects(image, od[obj_edge_extra[0]]._parentCluster, cellData)"
   ]
  },
  {
   "cell_type": "code",
   "execution_count": null,
   "id": "bf774760-393c-4de4-9bb8-38b6c40a5381",
   "metadata": {},
   "outputs": [],
   "source": [
    "od[obj_edge_extra[0]]._parentCluster.data"
   ]
  },
  {
   "cell_type": "code",
   "execution_count": null,
   "id": "84755d4d-dce4-4d2c-bb42-e0d5b7c9a3f0",
   "metadata": {},
   "outputs": [],
   "source": []
  }
 ],
 "metadata": {
  "kernelspec": {
   "display_name": "Python 3 (ipykernel)",
   "language": "python",
   "name": "python3"
  },
  "language_info": {
   "codemirror_mode": {
    "name": "ipython",
    "version": 3
   },
   "file_extension": ".py",
   "mimetype": "text/x-python",
   "name": "python",
   "nbconvert_exporter": "python",
   "pygments_lexer": "ipython3",
   "version": "3.11.11"
  }
 },
 "nbformat": 4,
 "nbformat_minor": 5
}
