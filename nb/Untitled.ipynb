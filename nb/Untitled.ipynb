{
 "cells": [
  {
   "cell_type": "code",
   "execution_count": null,
   "id": "40edc9e8-931c-4c60-af1a-87be0a26fb1c",
   "metadata": {},
   "outputs": [],
   "source": [
    "import hpmcm\n",
    "import tables_io\n",
    "import glob\n",
    "import os\n",
    "import numpy as np\n",
    "import matplotlib.pyplot as plt"
   ]
  },
  {
   "cell_type": "code",
   "execution_count": null,
   "id": "25390b87-61ee-4382-b76e-50cde7f70c65",
   "metadata": {},
   "outputs": [],
   "source": [
    "DATADIR = \"shear_tract\"\n",
    "shear_st = \"0p0025\"\n",
    "shear_type = \"gauss\"\n",
    "\n",
    "tract = 10705\n",
    "inputBase = f\"shear_tract/shear_{shear_type}_{shear_st}_uncleaned_{tract}\"\n",
    "basefile = f\"match_data/shear_{shear_type}_{shear_st}_match_{tract}\"\n",
    "\n",
    "inputKeys = [\"ns\", \"1p\", \"1m\", \"2p\", \"2m\"]\n",
    "keys = ['cluster_assoc', 'cluster_stats', 'cluster_shear', 'object_assoc', 'object_stats', 'object_shear']\n",
    "inputD = tables_io.read(f'{inputBase}_.pq', keys=inputKeys)\n",
    "td = tables_io.read(f'{basefile}_.pq', keys=keys)"
   ]
  },
  {
   "cell_type": "code",
   "execution_count": null,
   "id": "bfba3ee2-d00b-49a5-80cc-b14a0e855a68",
   "metadata": {},
   "outputs": [],
   "source": [
    "np.unique(inputD['1p'].id.values).size"
   ]
  },
  {
   "cell_type": "code",
   "execution_count": null,
   "id": "7a26ce2f-d4e8-4a25-adf5-87910bfb1cb3",
   "metadata": {},
   "outputs": [],
   "source": [
    "np.hstack([inputD[x].id.values for x in inputKeys]).shape"
   ]
  },
  {
   "cell_type": "code",
   "execution_count": null,
   "id": "7ced93a7-f527-4a1c-a0d1-1c7008e7c7d7",
   "metadata": {},
   "outputs": [],
   "source": [
    "np.unique(np.hstack([inputD[x].id.values for x in inputKeys])).shape"
   ]
  },
  {
   "cell_type": "code",
   "execution_count": null,
   "id": "14ee01d5-1e49-4c8c-b42f-58260bc6f6d1",
   "metadata": {},
   "outputs": [],
   "source": [
    "td['object_assoc'].cellIdx == 32201"
   ]
  },
  {
   "cell_type": "code",
   "execution_count": null,
   "id": "8d57503d-28cb-4499-b93c-79c54e8123d8",
   "metadata": {},
   "outputs": [],
   "source": [
    "mask_ns = (td[\"object_assoc\"].catalogId == 0)"
   ]
  },
  {
   "cell_type": "code",
   "execution_count": null,
   "id": "98182144-c8fb-489f-ab0d-11265d4a1548",
   "metadata": {},
   "outputs": [],
   "source": [
    "inputD['ns'].set_index('id', inplace=True)"
   ]
  },
  {
   "cell_type": "code",
   "execution_count": null,
   "id": "7d8e8476-daa8-4def-bbda-3fa526e3cb54",
   "metadata": {},
   "outputs": [],
   "source": [
    "inputD['ns'].loc[td['object_assoc'][mask_ns].id]"
   ]
  },
  {
   "cell_type": "code",
   "execution_count": null,
   "id": "88731b72-1a86-42ef-9be7-d1ffd06b0fc8",
   "metadata": {},
   "outputs": [],
   "source": [
    "td['object_assoc'][mask_ns].id"
   ]
  },
  {
   "cell_type": "code",
   "execution_count": null,
   "id": "444ddf50-04ef-4af8-956a-6b335906ad20",
   "metadata": {},
   "outputs": [],
   "source": []
  }
 ],
 "metadata": {
  "kernelspec": {
   "display_name": "Python 3 (ipykernel)",
   "language": "python",
   "name": "python3"
  },
  "language_info": {
   "codemirror_mode": {
    "name": "ipython",
    "version": 3
   },
   "file_extension": ".py",
   "mimetype": "text/x-python",
   "name": "python",
   "nbconvert_exporter": "python",
   "pygments_lexer": "ipython3",
   "version": "3.12.9"
  }
 },
 "nbformat": 4,
 "nbformat_minor": 5
}
