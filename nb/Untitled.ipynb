{
 "cells": [
  {
   "cell_type": "code",
   "execution_count": 1,
   "id": "1e37aad0-92d1-4599-812a-371ec64c1c3d",
   "metadata": {},
   "outputs": [],
   "source": [
    "import numpy as np\n",
    "import tables_io\n",
    "import matplotlib.pyplot as plt"
   ]
  },
  {
   "cell_type": "code",
   "execution_count": null,
   "id": "53e7b62d-ad51-46fd-880d-681cea1ceeca",
   "metadata": {},
   "outputs": [],
   "source": []
  },
  {
   "cell_type": "code",
   "execution_count": 2,
   "id": "53634c6a-aea7-46de-80e5-1d39c23a9921",
   "metadata": {},
   "outputs": [
    {
     "name": "stdout",
     "output_type": "stream",
     "text": [
      "column_list None\n"
     ]
    }
   ],
   "source": [
    "t = tables_io.read('shear_tract/shear_wmom_0p01.parq')"
   ]
  },
  {
   "cell_type": "code",
   "execution_count": 6,
   "id": "ff40f037-ed4a-4e79-86fd-ca7fb51a6c5e",
   "metadata": {},
   "outputs": [],
   "source": [
    "mask = t['tract'] == 10463"
   ]
  },
  {
   "cell_type": "code",
   "execution_count": 24,
   "id": "accaa6e3-1ed7-485f-add7-b732f09516d5",
   "metadata": {},
   "outputs": [
    {
     "data": {
      "image/png": "[encoded data removed]",
      "text/plain": [
       "<Figure size 640x480 with 1 Axes>"
      ]
     },
     "metadata": {},
     "output_type": "display_data"
    }
   ],
   "source": [
    "_ = plt.scatter(t[mask].row, t[mask].patch_y, s=1)\n"
   ]
  },
  {
   "cell_type": "code",
   "execution_count": 20,
   "id": "d32786ca-a108-4051-b355-34590734fc00",
   "metadata": {},
   "outputs": [
    {
     "data": {
      "text/plain": [
       "Index(['id', 'shear_type', 'tract', 'patch_x', 'patch_y', 'cell_x', 'cell_y',\n",
       "       'wmom_flags', 'psfrec_flags', 'psfrec_g_1', 'psfrec_g_2', 'psfrec_T',\n",
       "       'wmom_psf_flags', 'wmom_psf_g_1', 'wmom_psf_g_2', 'wmom_psf_T',\n",
       "       'wmom_obj_flags', 'wmom_s2n', 'wmom_g_1', 'wmom_g_2', 'wmom_g_cov_11',\n",
       "       'wmom_g_cov_12', 'wmom_g_cov_21', 'wmom_g_cov_22', 'wmom_T_flags',\n",
       "       'wmom_T', 'wmom_T_err', 'wmom_T_ratio', 'shear_bands', 'row', 'col',\n",
       "       'row_diff', 'col_diff', 'ra', 'dec', 'bmask', 'ormask', 'mfrac',\n",
       "       'wmom_band_flux_flags_g', 'wmom_band_flux_g', 'wmom_band_flux_err_g',\n",
       "       'wmom_band_flux_flags_r', 'wmom_band_flux_r', 'wmom_band_flux_err_r',\n",
       "       'wmom_band_flux_flags_i', 'wmom_band_flux_i', 'wmom_band_flux_err_i',\n",
       "       'patch'],\n",
       "      dtype='object')"
      ]
     },
     "execution_count": 20,
     "metadata": {},
     "output_type": "execute_result"
    }
   ],
   "source": [
    "t.columns"
   ]
  },
  {
   "cell_type": "code",
   "execution_count": null,
   "id": "49025d89-3b86-4988-a234-4600dad7c14a",
   "metadata": {},
   "outputs": [],
   "source": []
  }
 ],
 "metadata": {
  "kernelspec": {
   "display_name": "Python 3 (ipykernel)",
   "language": "python",
   "name": "python3"
  },
  "language_info": {
   "codemirror_mode": {
    "name": "ipython",
    "version": 3
   },
   "file_extension": ".py",
   "mimetype": "text/x-python",
   "name": "python",
   "nbconvert_exporter": "python",
   "pygments_lexer": "ipython3",
   "version": "3.12.9"
  }
 },
 "nbformat": 4,
 "nbformat_minor": 5
}
