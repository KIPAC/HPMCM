{
 "cells": [
  {
   "cell_type": "markdown",
   "id": "986421ef-f460-416f-a30e-99bfe5377c68",
   "metadata": {},
   "source": [
    "## Compare metadetect catalog types"
   ]
  },
  {
   "cell_type": "code",
   "execution_count": null,
   "id": "8e5633bc-cfde-4a82-9501-5da113eeb2f5",
   "metadata": {},
   "outputs": [],
   "source": [
    "import hpmcm\n",
    "import glob\n",
    "import os\n",
    "import numpy as np"
   ]
  },
  {
   "cell_type": "code",
   "execution_count": null,
   "id": "02ae089e-f779-4070-af62-97f9e2c7b876",
   "metadata": {},
   "outputs": [],
   "source": [
    "DATADIR = \"shear_tract\"\n",
    "shear_st = \"0p04\"\n",
    "shear = 0.04\n",
    "shear_type = \"pgauss\"\n",
    "\n",
    "tract = 10463\n",
    "SOURCE_TABLEFILES = sorted(glob.glob(os.path.join(DATADIR, f\"shear_*_{shear_st}_uncleaned_{tract}_1p.pq\")))\n",
    "SOURCE_TABLEFILES.reverse()\n",
    "VISIT_IDS = np.arange(len(SOURCE_TABLEFILES))\n",
    "\n",
    "REF_DIR = (37.91729, 6.94389)  # RA, DEC in deg\n",
    "PIXEL_R2CUT = 4.\n",
    "PIXEL_MATCH_SCALE = 1"
   ]
  },
  {
   "cell_type": "code",
   "execution_count": null,
   "id": "ad35fab9-637a-4465-9490-9d6ae228e8b6",
   "metadata": {},
   "outputs": [],
   "source": [
    "SOURCE_TABLEFILES"
   ]
  },
  {
   "cell_type": "code",
   "execution_count": null,
   "id": "0c5e34c0-17cd-493d-a76e-3a17a41046f2",
   "metadata": {},
   "outputs": [],
   "source": [
    "matcher = hpmcm.ShearMatch.createShearMatch(pixelR2Cut=PIXEL_R2CUT, pixelMatchScale=PIXEL_MATCH_SCALE)"
   ]
  },
  {
   "cell_type": "code",
   "execution_count": null,
   "id": "3d97f035-ea28-4286-9272-0bf30cfde3e5",
   "metadata": {},
   "outputs": [],
   "source": [
    "matcher.reduceData(SOURCE_TABLEFILES, VISIT_IDS)"
   ]
  },
  {
   "cell_type": "code",
   "execution_count": null,
   "id": "18c03bad-473f-40af-86a1-4732ec7e5755",
   "metadata": {},
   "outputs": [],
   "source": [
    "do_partial = True\n",
    "if do_partial:\n",
    "    xRange = range(50, 70)\n",
    "    yRange = range(170, 190)\n",
    "    #xRange = [55]\n",
    "    #yRange = [170]\n",
    "    matcher.analysisLoop(xRange, yRange)\n",
    "else:\n",
    "    matcher.analysisLoop()"
   ]
  },
  {
   "cell_type": "code",
   "execution_count": null,
   "id": "8a8930d1-f4b9-4ebe-9cbe-dbbab66aa166",
   "metadata": {},
   "outputs": [],
   "source": [
    "stats = matcher.extractStats()"
   ]
  },
  {
   "cell_type": "code",
   "execution_count": null,
   "id": "3d8f6046-ab29-4bd4-9fa1-5c7680dee150",
   "metadata": {},
   "outputs": [],
   "source": [
    "objLists = hpmcm.classify.classifyObjects(matcher)\n",
    "hpmcm.classify.printObjectTypes(objLists)"
   ]
  },
  {
   "cell_type": "code",
   "execution_count": null,
   "id": "2d401578-ae4f-4ed8-9c37-bb34cb28cf21",
   "metadata": {},
   "outputs": [],
   "source": [
    "n_good = len(objLists['ideal'])\n",
    "bad_list = ['edge_mixed', 'edge_missing', 'edge_extra', 'orphan', 'missing', 'two_missing', 'many_missing', 'extra', 'caught']\n",
    "n_bad = np.sum([len(objLists[x]) for x in bad_list])"
   ]
  },
  {
   "cell_type": "code",
   "execution_count": null,
   "id": "37417087-9be8-4652-9da0-47f4d6187d9d",
   "metadata": {},
   "outputs": [],
   "source": [
    "n_good/(n_good+n_bad)"
   ]
  },
  {
   "cell_type": "code",
   "execution_count": null,
   "id": "e2d0eeec-4ea9-42eb-a96c-e3bebccd762b",
   "metadata": {},
   "outputs": [],
   "source": []
  }
 ],
 "metadata": {
  "kernelspec": {
   "display_name": "Python 3 (ipykernel)",
   "language": "python",
   "name": "python3"
  },
  "language_info": {
   "codemirror_mode": {
    "name": "ipython",
    "version": 3
   },
   "file_extension": ".py",
   "mimetype": "text/x-python",
   "name": "python",
   "nbconvert_exporter": "python",
   "pygments_lexer": "ipython3",
   "version": "3.12.9"
  }
 },
 "nbformat": 4,
 "nbformat_minor": 5
}
