{
 "cells": [
  {
   "cell_type": "code",
   "execution_count": null,
   "id": "62a43459-24f7-439d-9425-9e5d82175dd2",
   "metadata": {},
   "outputs": [],
   "source": [
    "import tables_io\n",
    "import numpy as np\n",
    "import matplotlib.pyplot as plt"
   ]
  },
  {
   "cell_type": "code",
   "execution_count": null,
   "id": "a71cdc5c-c35c-4c98-9acd-680a32d3985b",
   "metadata": {},
   "outputs": [],
   "source": [
    "# tract = 10705\n",
    "tract = 10463\n",
    "shear = \"0p02\"\n",
    "t = tables_io.read(f\"shear_wmom_{shear}_match_{tract}_object_shear.pq\")     \n",
    "t2 = tables_io.read(f\"shear_wmom_{shear}_match_{tract}_object_stats.pq\")\n",
    "t['idx'] = np.arange(len(t))\n",
    "t2['idx'] = np.arange(len(t2))"
   ]
  },
  {
   "cell_type": "code",
   "execution_count": null,
   "id": "58d0f299-45c4-463c-a9eb-438582e10c85",
   "metadata": {},
   "outputs": [],
   "source": [
    "merged = t.merge(t2, on='idx')"
   ]
  },
  {
   "cell_type": "code",
   "execution_count": null,
   "id": "97c8395a-7cf1-4c03-a5af-a70f4969196b",
   "metadata": {},
   "outputs": [],
   "source": [
    "in_cell_mask = np.bitwise_and( \n",
    "    np.fabs(merged.xCents-100) < 75,\n",
    "    np.fabs(merged.yCents-100) < 75,\n",
    ")\n",
    "in_cell = merged[in_cell_mask]\n",
    "bright_mask = in_cell.SNRs > 7.5\n",
    "\n",
    "used = in_cell[bright_mask]\n",
    "\n",
    "good_mask = used.good\n",
    "good = used[good_mask]\n",
    "bad = used[~good_mask]"
   ]
  },
  {
   "cell_type": "code",
   "execution_count": null,
   "id": "5492c7ac-7b61-4bf4-882c-d0a47fd0a2c2",
   "metadata": {},
   "outputs": [],
   "source": []
  },
  {
   "cell_type": "code",
   "execution_count": null,
   "id": "7a15c7b7-3a4e-48b5-a5b1-469393967230",
   "metadata": {},
   "outputs": [],
   "source": [
    "print(\"All Objects:                                   \", len(merged))\n",
    "print(\"Usable                                         \", len(in_cell))\n",
    "print(\"Used                                           \", len(used))\n",
    "print(\"Good                                           \", len(good))\n",
    "print(\"Bad                                            \", len(bad))"
   ]
  },
  {
   "cell_type": "code",
   "execution_count": null,
   "id": "cbaaa652-2e4a-413a-815d-077b40b74dff",
   "metadata": {},
   "outputs": [],
   "source": [
    "def stats(weights, bin_centers):\n",
    "    w = np.sum(weights)\n",
    "    mean = np.sum(weights*bin_centers)/w\n",
    "    deltas = bin_centers - mean\n",
    "    var = np.sum(weights*deltas*deltas)/w\n",
    "    std = np.sqrt(var)\n",
    "    error = std/np.sqrt(w)\n",
    "    inv_var = 1./(error*error)\n",
    "    return mean, std, error, inv_var"
   ]
  },
  {
   "cell_type": "code",
   "execution_count": null,
   "id": "70c655c6-0058-474a-ac58-0d84bd60d36f",
   "metadata": {},
   "outputs": [],
   "source": [
    "bin_edges = np.linspace(-1, 1, 2001)\n",
    "bin_centers = (bins_edges[1:] + bins_edges[0:-1])/2.\n",
    "\n",
    "good_delta_g1 = np.histogram(good.delta_g_1, bins=bin_edges)[0]\n",
    "good_delta_g2 = np.histogram(good.delta_g_2, bins=bin_edges)[0]\n",
    "\n",
    "good_g2_2p = np.histogram(good.g2_2p, weights=good.n_2p, bins=bin_edges)[0]\n",
    "good_g2_2m = np.histogram(-1*good.g2_2m, weights=good.n_2m, bins=bin_edges)[0]\n",
    "good_g1_1p = np.histogram(good.g1_1p, weights=good.n_1p, bins=bin_edges)[0]\n",
    "good_g1_1m = np.histogram(-1*good.g1_1m, weights=good.n_1m, bins=bin_edges)[0]\n",
    "\n",
    "bad_g2_2p = np.histogram(bad.g2_2p, weights=bad.n_2p, bins=bin_edges)[0]\n",
    "bad_g2_2m = np.histogram(-1*bad.g2_2m, weights=bad.n_2m, bins=bin_edges)[0]\n",
    "bad_g1_1p = np.histogram(bad.g1_1p, weights=bad.n_1p, bins=bin_edges)[0]\n",
    "bad_g1_1m = np.histogram(-1*bad.g1_1m, weights=bad.n_1m, bins=bin_edges)[0]\n",
    "\n",
    "stats_delta_g1 = stats(good_delta_g1, bin_centers)\n",
    "stats_delta_g2 = stats(good_delta_g2, bin_centers)\n",
    "\n",
    "stats_good_g1 = stats(good_g1_1p + good_g1_1m, bin_centers)\n",
    "stats_good_g2 = stats(good_g2_2p + good_g2_2m, bin_centers)\n",
    "\n",
    "stats_bad_g1 = stats(bad_g1_1p + bad_g1_1m, bin_centers)\n",
    "stats_bad_g2 = stats(bad_g2_2p + bad_g2_2m, bin_centers)\n"
   ]
  },
  {
   "cell_type": "code",
   "execution_count": null,
   "id": "422eeefb-43a5-460d-9b52-632c6c974206",
   "metadata": {},
   "outputs": [],
   "source": [
    "_ = plt.stairs(good_delta_g1[800:1200], bin_edges[800:1201], label=f\"g1: {100*stats_delta_g1[0]:.4f} +- {100*stats_delta_g1[2]:.4f}\")\n",
    "_ = plt.stairs(good_delta_g2[800:1200], bin_edges[800:1201], label=f\"g2: {100*stats_delta_g2[0]:.4f} +- {100*stats_delta_g2[2]:.4f}\")\n",
    "_ = plt.axvline(x=0, color='red', linestyle='--', linewidth=2)\n",
    "_ = plt.legend()"
   ]
  },
  {
   "cell_type": "code",
   "execution_count": null,
   "id": "c369fc26-3dad-4609-9d9e-197622102b0c",
   "metadata": {},
   "outputs": [],
   "source": [
    "_ = plt.stairs(\n",
    "    (good_g1_1p + good_g1_1m)[800:1200], bin_edges[800:1201],\n",
    "    label=f\"g1: {200*stats_good_g1[0]:.4f} +- {200*stats_good_g1[2]:.4f}\",\n",
    ")\n",
    "_ = plt.stairs(\n",
    "    (good_g2_2p + good_g2_2m)[800:1200], bin_edges[800:1201],\n",
    "    label=f\"g2: {200*stats_good_g2[0]:.4f} +- {200*stats_good_g2[2]:.4f}\",\n",
    ")\n",
    "_ = plt.legend()"
   ]
  },
  {
   "cell_type": "code",
   "execution_count": null,
   "id": "23ff2c1a-9946-4ef8-aaba-10c3578c2323",
   "metadata": {},
   "outputs": [],
   "source": [
    "_ = plt.stairs(\n",
    "    (bad_g1_1p + bad_g1_1m)[800:1200], bin_edges[800:1201],\n",
    "    label=f\"g1: {200*stats_bad_g1[0]:.4f} +- {200*stats_bad_g1[2]:.4f}\",\n",
    ")\n",
    "_ = plt.stairs(\n",
    "    (bad_g2_2p + bad_g2_2m)[800:1200], bin_edges[800:1201],\n",
    "    label=f\"g2: {200*stats_bad_g2[0]:.4f} +- {200*stats_bad_g2[2]:.4f}\",\n",
    ")\n",
    "_ = plt.legend()"
   ]
  },
  {
   "cell_type": "code",
   "execution_count": null,
   "id": "cdf5a298-5cb8-44fb-829f-ad491d753726",
   "metadata": {},
   "outputs": [],
   "source": [
    "stats_bad_g1[3]"
   ]
  },
  {
   "cell_type": "code",
   "execution_count": null,
   "id": "7fd80fd3-f8c8-4fe8-b1cf-28431cd35c17",
   "metadata": {},
   "outputs": [],
   "source": [
    "stats_good_g1[3] / stats_bad_g1[3]"
   ]
  },
  {
   "cell_type": "code",
   "execution_count": null,
   "id": "4501b53e-5c1c-4ac2-a749-bbfd30aa245d",
   "metadata": {},
   "outputs": [],
   "source": []
  }
 ],
 "metadata": {
  "kernelspec": {
   "display_name": "Python 3 (ipykernel)",
   "language": "python",
   "name": "python3"
  },
  "language_info": {
   "codemirror_mode": {
    "name": "ipython",
    "version": 3
   },
   "file_extension": ".py",
   "mimetype": "text/x-python",
   "name": "python",
   "nbconvert_exporter": "python",
   "pygments_lexer": "ipython3",
   "version": "3.12.9"
  }
 },
 "nbformat": 4,
 "nbformat_minor": 5
}
