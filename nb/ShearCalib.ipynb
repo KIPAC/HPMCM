{
 "cells": [
  {
   "cell_type": "code",
   "execution_count": null,
   "id": "62a43459-24f7-439d-9425-9e5d82175dd2",
   "metadata": {},
   "outputs": [],
   "source": [
    "import tables_io\n",
    "import numpy as np\n",
    "import matplotlib.pyplot as plt\n",
    "import hpmcm"
   ]
  },
  {
   "cell_type": "code",
   "execution_count": null,
   "id": "5864185c-6e26-4551-a1c7-94345382b5b2",
   "metadata": {},
   "outputs": [],
   "source": [
    "tract = 10463\n",
    "shear = \"0p01\"\n",
    "shear_type = \"gauss\"\n",
    "hpmcm.ShearMatch.shear_report(f\"shear_{shear_type}_{shear}_match_{tract}\")"
   ]
  },
  {
   "cell_type": "code",
   "execution_count": null,
   "id": "4501b53e-5c1c-4ac2-a749-bbfd30aa245d",
   "metadata": {},
   "outputs": [],
   "source": []
  }
 ],
 "metadata": {
  "kernelspec": {
   "display_name": "Python 3 (ipykernel)",
   "language": "python",
   "name": "python3"
  },
  "language_info": {
   "codemirror_mode": {
    "name": "ipython",
    "version": 3
   },
   "file_extension": ".py",
   "mimetype": "text/x-python",
   "name": "python",
   "nbconvert_exporter": "python",
   "pygments_lexer": "ipython3",
   "version": "3.12.9"
  }
 },
 "nbformat": 4,
 "nbformat_minor": 5
}
