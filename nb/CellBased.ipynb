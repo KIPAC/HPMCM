{
 "cells": [
  {
   "cell_type": "code",
   "execution_count": null,
   "id": "b3fe89f9-cf35-486c-b15b-0bd9566a64d6",
   "metadata": {},
   "outputs": [],
   "source": [
    "import hpmcm\n",
    "import glob\n",
    "import os\n",
    "import numpy as np\n",
    "import matplotlib.pyplot as plt"
   ]
  },
  {
   "cell_type": "code",
   "execution_count": null,
   "id": "f0ceddec-40d2-42d4-98a3-88b88dcdbd81",
   "metadata": {},
   "outputs": [],
   "source": [
    "DATADIR = \"shear_tract\"\n",
    "shear_st = \"0p04\"\n",
    "shear = 0.04\n",
    "shear_type = \"pgauss\"\n",
    "\n",
    "tract = 10463\n",
    "SOURCE_TABLEFILES = sorted(glob.glob(os.path.join(DATADIR, f\"shear_{shear_type}_{shear_st}_uncleaned_{tract}_*.pq\")))\n",
    "SOURCE_TABLEFILES.reverse()\n",
    "VISIT_IDS = np.arange(len(SOURCE_TABLEFILES))\n",
    "\n",
    "REF_DIR = (37.91729, 6.94389)  # RA, DEC in deg\n",
    "PIXEL_R2CUT = 4.\n",
    "PIXEL_MATCH_SCALE = 1"
   ]
  },
  {
   "cell_type": "code",
   "execution_count": null,
   "id": "5662f9fc-40b9-4c75-b1a6-a66dec54ff43",
   "metadata": {},
   "outputs": [],
   "source": [
    "matcher = hpmcm.ShearMatch.createShearMatch(pixelR2Cut=PIXEL_R2CUT, pixelMatchScale=PIXEL_MATCH_SCALE, deshear=-1*shear)"
   ]
  },
  {
   "cell_type": "code",
   "execution_count": null,
   "id": "5f2b49c5-36cd-47a6-9480-c207fadfe552",
   "metadata": {},
   "outputs": [],
   "source": [
    "matcher.reduceData(SOURCE_TABLEFILES, VISIT_IDS)"
   ]
  },
  {
   "cell_type": "code",
   "execution_count": null,
   "id": "e4508b9e-ee8e-4d44-94c5-21dd594b49a1",
   "metadata": {},
   "outputs": [],
   "source": [
    "matcher._nCell"
   ]
  },
  {
   "cell_type": "code",
   "execution_count": null,
   "id": "70f180a5-a400-49c7-97c3-f5bac3204da5",
   "metadata": {},
   "outputs": [],
   "source": [
    "do_partial = True\n",
    "if do_partial:\n",
    "    xRange = range(50, 70)\n",
    "    yRange = range(170, 190)\n",
    "    #xRange = [55]\n",
    "    #yRange = [170]\n",
    "    matcher.analysisLoop(xRange, yRange)\n",
    "else:\n",
    "    matcher.analysisLoop()"
   ]
  },
  {
   "cell_type": "code",
   "execution_count": null,
   "id": "791146c8-ec2d-493e-b18a-3907565138d8",
   "metadata": {},
   "outputs": [],
   "source": [
    "cell = matcher.cellDict[(50, 170)]\n",
    "od = cell.analyze(None, 4)\n",
    "_ = plt.imshow(od['countsMap'], origin='lower')"
   ]
  },
  {
   "cell_type": "code",
   "execution_count": null,
   "id": "7bb87ecf-0aa7-4006-8e8b-8eaafcf3a8db",
   "metadata": {},
   "outputs": [],
   "source": [
    "cluster = list(cell._clusterDict.values())[0]\n",
    "_ = hpmcm.viz_utils.showCluster(od['image'], cluster, cell)"
   ]
  },
  {
   "cell_type": "code",
   "execution_count": null,
   "id": "22dbca58-4278-43c0-b3bf-751f47a093ad",
   "metadata": {},
   "outputs": [],
   "source": [
    "stats = matcher.extractStats()\n",
    "shear_stats = matcher.extractShearStats()\n",
    "obj_shear = shear_stats[1]"
   ]
  },
  {
   "cell_type": "markdown",
   "id": "f3c72de7-6b3d-4e61-9ab7-fd833b80ca83",
   "metadata": {},
   "source": []
  },
  {
   "cell_type": "code",
   "execution_count": null,
   "id": "4b9466f5-a16f-401d-b91f-2096ba841655",
   "metadata": {},
   "outputs": [],
   "source": [
    "def get_offsets(matcher):\n",
    "    n = 0\n",
    "    dd = {\n",
    "        0:dict(dx=[], dy=[], x=[], y=[]), \n",
    "        1:dict(dx=[], dy=[], x=[], y=[]), \n",
    "        2:dict(dx=[], dy=[], x=[], y=[]), \n",
    "        3:dict(dx=[], dy=[], x=[], y=[]), \n",
    "        4:dict(dx=[], dy=[], x=[], y=[]), \n",
    "    }\n",
    "    for cellData in matcher._cellDict.values():\n",
    "        n += len(cellData.data[0])\n",
    "        for obj in cellData._objectDict.values():\n",
    "            if not obj._nUnique == 5 and obj._nSrc == 5:\n",
    "                continue\n",
    "            for iCat in range(5):\n",
    "                mask = obj.catIndices == iCat\n",
    "                if mask.sum() == 0:\n",
    "                    continue\n",
    "                for dx, dy in zip((obj.xPix[mask] - obj.xCent), (obj.yPix[mask] - obj.yCent)):\n",
    "                    dd[iCat][\"dx\"].append(dx)\n",
    "                    dd[iCat][\"dy\"].append(dy)\n",
    "                    dd[iCat][\"x\"].append(float(obj.data[mask].iloc[0].xCell))\n",
    "                    dd[iCat][\"y\"].append(float(obj.data[mask].iloc[0].yCell))\n",
    "\n",
    "    for i in range(5):\n",
    "        dd[i]['dx'] = np.array(dd[i]['dx'])\n",
    "        dd[i]['dy'] = np.array(dd[i]['dy'])\n",
    "        dd[i]['x'] = np.array(dd[i]['x'])\n",
    "        dd[i]['y'] = np.array(dd[i]['y'])\n",
    "    print(n)\n",
    "    return dd                  \n",
    "                    \n",
    "    "
   ]
  },
  {
   "cell_type": "code",
   "execution_count": null,
   "id": "0fe094c7-efeb-49d0-b08d-0b1823bcedad",
   "metadata": {},
   "outputs": [],
   "source": [
    "dd = get_offsets(matcher)"
   ]
  },
  {
   "cell_type": "code",
   "execution_count": null,
   "id": "dadfaaa4-11ac-4418-b802-5cd0c5320c0a",
   "metadata": {},
   "outputs": [],
   "source": [
    "_ = plt.scatter(dd[4]['x'], dd[4]['dx'])"
   ]
  },
  {
   "cell_type": "code",
   "execution_count": null,
   "id": "c3b637c4-290d-4ef4-a592-68ad8146a4d8",
   "metadata": {},
   "outputs": [],
   "source": [
    "_ = plt.hist(matcher.fullData[0].xCell_coadd, bins=np.linspace(-100, 100, 201))\n",
    "#_ = plt.hist(matcher.fullData[0].loc[stats[0][mask_0].id].xCell_coadd, bins=np.linspace(-100, 100, 201))"
   ]
  },
  {
   "cell_type": "code",
   "execution_count": null,
   "id": "53ecf906-9d0b-403a-8c8e-240b3e3ff1d8",
   "metadata": {},
   "outputs": [],
   "source": [
    "_ = plt.hist(matcher.fullData[0].yCell_coadd, bins=np.linspace(-100, 100, 201))\n",
    "#_ = plt.hist(matcher.fullData[0].loc[stats[0][mask_0].id].yCell_coadd, bins=np.linspace(-100, 100, 201))"
   ]
  },
  {
   "cell_type": "code",
   "execution_count": null,
   "id": "79c084b7-923e-41e3-813a-411a53ecdcad",
   "metadata": {},
   "outputs": [],
   "source": [
    "objLists = matcher.classifyObjects()\n",
    "hpmcm.Match.printObjectTypes(objLists)"
   ]
  },
  {
   "cell_type": "code",
   "execution_count": null,
   "id": "24bdd872-fad4-467a-950e-68e6a0998175",
   "metadata": {},
   "outputs": [],
   "source": [
    "n_good = len(objLists['ideal'])\n",
    "bad_list = ['edge_mixed', 'edge_missing', 'edge_extra', 'orphan', 'missing', 'two_missing', 'many_missing', 'extra', 'caught']\n",
    "n_bad = np.sum([len(objLists[x]) for x in bad_list])"
   ]
  },
  {
   "cell_type": "code",
   "execution_count": null,
   "id": "a55ee78c-b3c1-481d-98f6-e7c970acdbca",
   "metadata": {},
   "outputs": [],
   "source": [
    "n_good/(n_good+n_bad)"
   ]
  },
  {
   "cell_type": "code",
   "execution_count": null,
   "id": "ee22a960-3193-4d5f-bb76-0a6aa193784b",
   "metadata": {},
   "outputs": [],
   "source": [
    "clusterLists = matcher.classifyClusters()\n",
    "hpmcm.Match.printClusterTypes(clusterLists)"
   ]
  },
  {
   "cell_type": "code",
   "execution_count": null,
   "id": "96301ea4-49bc-4109-8f19-726f9ccd3e27",
   "metadata": {},
   "outputs": [],
   "source": [
    "#_ = hpmcm.viz_utils.showShearObjs(matcher, clusterLists['edge_missing'][5])"
   ]
  },
  {
   "cell_type": "code",
   "execution_count": null,
   "id": "eeb1251e-5256-4872-bcb2-219be16e54c4",
   "metadata": {},
   "outputs": [],
   "source": []
  },
  {
   "cell_type": "code",
   "execution_count": null,
   "id": "84755d4d-dce4-4d2c-bb42-e0d5b7c9a3f0",
   "metadata": {},
   "outputs": [],
   "source": [
    "_ = hpmcm.viz_utils.showShearObj(matcher, objLists['two_missing'][0])"
   ]
  },
  {
   "cell_type": "code",
   "execution_count": null,
   "id": "4cb7f95b-122f-43d4-918c-0de1f5a620ae",
   "metadata": {},
   "outputs": [],
   "source": [
    "_ = hpmcm.viz_utils.showShearObj(matcher, objLists['many_missing'][0])"
   ]
  },
  {
   "cell_type": "code",
   "execution_count": null,
   "id": "9e6b438f-8256-4173-9b0a-70ff89335084",
   "metadata": {},
   "outputs": [],
   "source": []
  },
  {
   "cell_type": "code",
   "execution_count": null,
   "id": "c8a94e95-1d5c-4a81-911b-29ff48eab41e",
   "metadata": {},
   "outputs": [],
   "source": []
  }
 ],
 "metadata": {
  "kernelspec": {
   "display_name": "Python 3 (ipykernel)",
   "language": "python",
   "name": "python3"
  },
  "language_info": {
   "codemirror_mode": {
    "name": "ipython",
    "version": 3
   },
   "file_extension": ".py",
   "mimetype": "text/x-python",
   "name": "python",
   "nbconvert_exporter": "python",
   "pygments_lexer": "ipython3",
   "version": "3.12.9"
  }
 },
 "nbformat": 4,
 "nbformat_minor": 5
}
