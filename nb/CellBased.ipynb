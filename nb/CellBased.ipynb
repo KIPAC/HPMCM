{
 "cells": [
  {
   "cell_type": "code",
   "execution_count": null,
   "id": "b3fe89f9-cf35-486c-b15b-0bd9566a64d6",
   "metadata": {},
   "outputs": [],
   "source": [
    "import hpmcm\n",
    "import tables_io\n",
    "import glob\n",
    "import os\n",
    "import numpy as np\n",
    "import matplotlib.pyplot as plt"
   ]
  },
  {
   "cell_type": "code",
   "execution_count": null,
   "id": "f0ceddec-40d2-42d4-98a3-88b88dcdbd81",
   "metadata": {},
   "outputs": [],
   "source": [
    "DATADIR = \"shear_tract\"\n",
    "shear_st = \"0p01\"\n",
    "SOURCE_TABLEFILES = sorted(glob.glob(os.path.join(DATADIR, f\"shear_wmom_{shear_st}_uncleaned_*.pq\")))\n",
    "SOURCE_TABLEFILES.reverse()\n",
    "VISIT_IDS = np.arange(len(SOURCE_TABLEFILES))\n",
    "\n",
    "REF_DIR = (37.91729, 6.94389)  # RA, DEC in deg\n",
    "PIXEL_R2CUT = 4"
   ]
  },
  {
   "cell_type": "code",
   "execution_count": null,
   "id": "5662f9fc-40b9-4c75-b1a6-a66dec54ff43",
   "metadata": {},
   "outputs": [],
   "source": [
    "matcher = hpmcm.Match.createCoaddCellsForTract(pixelR2Cut=PIXEL_R2CUT)"
   ]
  },
  {
   "cell_type": "code",
   "execution_count": null,
   "id": "5f2b49c5-36cd-47a6-9480-c207fadfe552",
   "metadata": {},
   "outputs": [],
   "source": [
    "matcher.reduceData(SOURCE_TABLEFILES, VISIT_IDS)"
   ]
  },
  {
   "cell_type": "code",
   "execution_count": null,
   "id": "e4508b9e-ee8e-4d44-94c5-21dd594b49a1",
   "metadata": {},
   "outputs": [],
   "source": [
    "matcher._nCell"
   ]
  },
  {
   "cell_type": "code",
   "execution_count": null,
   "id": "70f180a5-a400-49c7-97c3-f5bac3204da5",
   "metadata": {},
   "outputs": [],
   "source": [
    "do_partial = False\n",
    "if do_partial:\n",
    "    xRange = range(50, 70)\n",
    "    yRange = range(170, 190)\n",
    "    matcher.analysisLoop(xRange, yRange)\n",
    "else:\n",
    "    matcher.analysisLoop()"
   ]
  },
  {
   "cell_type": "code",
   "execution_count": null,
   "id": "22dbca58-4278-43c0-b3bf-751f47a093ad",
   "metadata": {},
   "outputs": [],
   "source": [
    "stats = matcher.extractStats()\n",
    "shear_stats = matcher.extractShearStats()\n",
    "obj_shear = shear_stats[1]"
   ]
  },
  {
   "cell_type": "code",
   "execution_count": null,
   "id": "a41808fc-f2f4-437e-858e-e54c83bd75ee",
   "metadata": {},
   "outputs": [],
   "source": [
    "_ = plt.hist(matcher.fullData[0].idx_y, bins=np.linspace(0.5, 200.5, 201))\n",
    "_ = plt.hist(matcher.fullData[0].loc[stats[0][mask_0].id].idx_y, bins=np.linspace(0.5, 200.5, 201))"
   ]
  },
  {
   "cell_type": "code",
   "execution_count": null,
   "id": "5a625698-330b-4cfc-ade3-0965992db9d7",
   "metadata": {},
   "outputs": [],
   "source": [
    "_ = plt.hist(matcher.fullData[0].idx_x, bins=np.linspace(0.5, 200.5, 201))\n",
    "_ = plt.hist(matcher.fullData[0].loc[stats[0][mask_0].id].idx_x, bins=np.linspace(0.5, 200.5, 201))"
   ]
  },
  {
   "cell_type": "code",
   "execution_count": null,
   "id": "293cb839-bc62-464a-8fa0-c8d7e93c3703",
   "metadata": {},
   "outputs": [],
   "source": [
    "_ = plt.hist(matcher.fullData[0].SNR, bins=np.logspace(0., 3, 201))\n",
    "_ = plt.hist(matcher.fullData[0].loc[stats[0][mask_0].id].SNR, bins=np.logspace(0., 3, 201))\n",
    "_ = plt.xscale('log')"
   ]
  },
  {
   "cell_type": "code",
   "execution_count": null,
   "id": "e8e5db49-02d9-4971-9933-b342b4f9c729",
   "metadata": {},
   "outputs": [],
   "source": [
    "matcher.fullData[0]"
   ]
  },
  {
   "cell_type": "code",
   "execution_count": null,
   "id": "c3b637c4-290d-4ef4-a592-68ad8146a4d8",
   "metadata": {},
   "outputs": [],
   "source": [
    "_ = plt.hist(matcher.fullData[0].xCell_coadd, bins=np.linspace(-100, 100, 201))\n",
    "_ = plt.hist(matcher.fullData[0].loc[stats[0][mask_0].id].xCell_coadd, bins=np.linspace(-100, 100, 201))"
   ]
  },
  {
   "cell_type": "code",
   "execution_count": null,
   "id": "53ecf906-9d0b-403a-8c8e-240b3e3ff1d8",
   "metadata": {},
   "outputs": [],
   "source": [
    "_ = plt.hist(matcher.fullData[0].yCell_coadd, bins=np.linspace(-100, 100, 201))\n",
    "_ = plt.hist(matcher.fullData[0].loc[stats[0][mask_0].id].yCell_coadd, bins=np.linspace(-100, 100, 201))"
   ]
  },
  {
   "cell_type": "code",
   "execution_count": null,
   "id": "5f1aa7d5-9732-401a-9ef3-89cb73bb45b5",
   "metadata": {},
   "outputs": [],
   "source": [
    "matcher.fullData[0].loc[stats[0][mask_0].id].xCell_coadd.min()"
   ]
  },
  {
   "cell_type": "code",
   "execution_count": null,
   "id": "9923fdcb-9941-47fb-82f9-081a9b5fedca",
   "metadata": {},
   "outputs": [],
   "source": [
    "(stats[0].cat == 0).sum()"
   ]
  },
  {
   "cell_type": "code",
   "execution_count": null,
   "id": "a4654071-eb17-41ab-abe7-0c6b1dac9b86",
   "metadata": {},
   "outputs": [],
   "source": [
    "l = [len(val.data[0]) for val in matcher._cellDict.values()]"
   ]
  },
  {
   "cell_type": "code",
   "execution_count": null,
   "id": "d86d59cf-159c-4c95-94b7-c00dd120d3e4",
   "metadata": {},
   "outputs": [],
   "source": [
    "cdx = matcher._cellDict[(70, 170)]"
   ]
  },
  {
   "cell_type": "code",
   "execution_count": null,
   "id": "2434bbb4-af51-42f3-ae73-417e13de3e82",
   "metadata": {},
   "outputs": [],
   "source": [
    "ll = [(val.data.iCat==0).sum() for val in cdx._clusterDict.values()]"
   ]
  },
  {
   "cell_type": "code",
   "execution_count": null,
   "id": "47a9b64b-8d6d-4ed2-8925-c08799b8ade9",
   "metadata": {},
   "outputs": [],
   "source": [
    "np.sum(ll)"
   ]
  },
  {
   "cell_type": "code",
   "execution_count": null,
   "id": "fa5066b4-69f9-47df-bcc3-03b8f7ba148d",
   "metadata": {},
   "outputs": [],
   "source": [
    "cdx.data[0]"
   ]
  },
  {
   "cell_type": "code",
   "execution_count": null,
   "id": "051668ee-c118-4782-b0a8-5ebecd9950aa",
   "metadata": {},
   "outputs": [],
   "source": [
    "np.sum(l)"
   ]
  },
  {
   "cell_type": "code",
   "execution_count": null,
   "id": "279b5395-6dab-4844-95c8-7fe50cf6d93d",
   "metadata": {},
   "outputs": [],
   "source": [
    "matcher.fullData[0].loc[stats[0][mask_0].id].idx_x.max()"
   ]
  },
  {
   "cell_type": "code",
   "execution_count": null,
   "id": "d44edb5e-b17d-4b7f-8a28-8487e3d23e92",
   "metadata": {},
   "outputs": [],
   "source": [
    "(matcher.redData[0].SNR > 1).sum()"
   ]
  },
  {
   "cell_type": "code",
   "execution_count": null,
   "id": "5fb4bf32-3a56-40a6-9e33-36d8f3ccca53",
   "metadata": {},
   "outputs": [],
   "source": [
    "matcher.redData[0].idx_y.max()"
   ]
  },
  {
   "cell_type": "code",
   "execution_count": null,
   "id": "6f8233e4-e98a-4725-a59c-eb5c8956968e",
   "metadata": {},
   "outputs": [],
   "source": [
    "matcher.redData[0].idx_x.max()"
   ]
  },
  {
   "cell_type": "code",
   "execution_count": null,
   "id": "4b6574af-600f-4eee-8260-26e92fc2170c",
   "metadata": {},
   "outputs": [],
   "source": [
    "obj_shear = shear_stats[1]"
   ]
  },
  {
   "cell_type": "code",
   "execution_count": null,
   "id": "95902fdd-909a-45ad-9520-6a3c7c9783a0",
   "metadata": {},
   "outputs": [],
   "source": [
    "mask = obj_shear.good"
   ]
  },
  {
   "cell_type": "code",
   "execution_count": null,
   "id": "f1b9fcb8-fc5b-4f6c-843f-184416b5d1fe",
   "metadata": {},
   "outputs": [],
   "source": [
    "obj_shear.delta_g_1[mask].mean()"
   ]
  },
  {
   "cell_type": "code",
   "execution_count": null,
   "id": "e0f89d2c-cba0-4a49-996f-b0479acef983",
   "metadata": {},
   "outputs": [],
   "source": [
    "np.mean(obj_shear.g1_1p[mask]) - np.mean(obj_shear.g1_1m[mask])"
   ]
  },
  {
   "cell_type": "code",
   "execution_count": null,
   "id": "631d435b-86f5-411e-acf1-6ad5ad31f941",
   "metadata": {},
   "outputs": [],
   "source": [
    "np.sum(obj_shear.n_1p*obj_shear.g1_1p)/np.sum(obj_shear.n_1p) - np.sum(obj_shear.n_1m*obj_shear.g1_1m)/np.sum(obj_shear.n_1m)"
   ]
  },
  {
   "cell_type": "code",
   "execution_count": null,
   "id": "fe171c09-5c73-46f5-b9f2-48f6f9a7909d",
   "metadata": {},
   "outputs": [],
   "source": [
    "obj_shear_good = obj_shear[mask]"
   ]
  },
  {
   "cell_type": "code",
   "execution_count": null,
   "id": "45742029-7a22-4352-940f-287121a453b7",
   "metadata": {},
   "outputs": [],
   "source": []
  },
  {
   "cell_type": "code",
   "execution_count": null,
   "id": "79c084b7-923e-41e3-813a-411a53ecdcad",
   "metadata": {},
   "outputs": [],
   "source": [
    "objLists = matcher.classifyObjects()\n",
    "hpmcm.Match.printObjectTypes(objLists)"
   ]
  },
  {
   "cell_type": "code",
   "execution_count": null,
   "id": "24bdd872-fad4-467a-950e-68e6a0998175",
   "metadata": {},
   "outputs": [],
   "source": [
    "n_good = len(objLists['ideal'])\n",
    "bad_list = ['edge_mixed', 'edge_missing', 'edge_extra', 'orphan', 'missing', 'two_missing', 'many_missing', 'extra', 'caught']\n",
    "n_bad = np.sum([len(objLists[x]) for x in bad_list])"
   ]
  },
  {
   "cell_type": "code",
   "execution_count": null,
   "id": "a55ee78c-b3c1-481d-98f6-e7c970acdbca",
   "metadata": {},
   "outputs": [],
   "source": [
    "n_good/(n_good+n_bad)"
   ]
  },
  {
   "cell_type": "code",
   "execution_count": null,
   "id": "ee22a960-3193-4d5f-bb76-0a6aa193784b",
   "metadata": {},
   "outputs": [],
   "source": [
    "clusterLists = matcher.classifyClusters()\n",
    "hpmcm.Match.printClusterTypes(clusterLists)"
   ]
  },
  {
   "cell_type": "code",
   "execution_count": null,
   "id": "7219af51-b489-4563-8e7f-26a599ea87a1",
   "metadata": {},
   "outputs": [],
   "source": [
    "np.sum(objLists['nsrcs'])"
   ]
  },
  {
   "cell_type": "code",
   "execution_count": null,
   "id": "7e0af365-b179-44a8-88a5-7f6402d5c6c5",
   "metadata": {},
   "outputs": [],
   "source": [
    "mask = stats[0].cat == 0\n",
    "matcher.fullData[0].loc[stats[0][mask].id]"
   ]
  },
  {
   "cell_type": "code",
   "execution_count": null,
   "id": "cf4d2840-3983-43b1-bd5c-2501a06dc95f",
   "metadata": {},
   "outputs": [],
   "source": [
    "mask.sum()"
   ]
  },
  {
   "cell_type": "code",
   "execution_count": null,
   "id": "3b2696ac-0ce7-4a1e-9c49-9ee143640911",
   "metadata": {},
   "outputs": [],
   "source": [
    "stats[1]"
   ]
  },
  {
   "cell_type": "code",
   "execution_count": null,
   "id": "fd599426-da54-4a11-9478-5067319ec48b",
   "metadata": {},
   "outputs": [],
   "source": [
    "matcher.getCluster(clusterLists['ideal'][0]).data"
   ]
  },
  {
   "cell_type": "code",
   "execution_count": null,
   "id": "6671b30b-fa84-4b5d-892f-e4b40cc108ba",
   "metadata": {},
   "outputs": [],
   "source": [
    "matcher.getCluster(clusterLists['ideal'][0]).shearStats()"
   ]
  },
  {
   "cell_type": "code",
   "execution_count": null,
   "id": "e16a4a90-795b-47f4-80ec-54c932abf9b3",
   "metadata": {},
   "outputs": [],
   "source": [
    "matcher.getCluster(clusterLists['ideal'][0])._data"
   ]
  },
  {
   "cell_type": "code",
   "execution_count": null,
   "id": "160013f3-1994-4c07-af9c-996f5df025c2",
   "metadata": {},
   "outputs": [],
   "source": [
    "stats[0]"
   ]
  },
  {
   "cell_type": "code",
   "execution_count": null,
   "id": "9d38667c-5b47-4f22-bb8e-a2bb8873a997",
   "metadata": {},
   "outputs": [],
   "source": [
    "mask_x = np.bitwise_and(matcher.fullData[0].idx_x >= 50, matcher.fullData[0].idx_x < 70)\n",
    "mask_y = np.bitwise_and(matcher.fullData[0].idx_y >= 170, matcher.fullData[0].idx_y <190)\n",
    "mask_xy = np.bitwise_and(mask_x, mask_y)"
   ]
  },
  {
   "cell_type": "code",
   "execution_count": null,
   "id": "31fa9fdb-aa93-4175-b5bc-a7b08e3e892a",
   "metadata": {},
   "outputs": [],
   "source": [
    "mask_xy.sum()"
   ]
  },
  {
   "cell_type": "code",
   "execution_count": null,
   "id": "96301ea4-49bc-4109-8f19-726f9ccd3e27",
   "metadata": {},
   "outputs": [],
   "source": [
    "_ = hpmcm.viz_utils.showShearObjs(matcher, clusterLists['edge_missing'][0])"
   ]
  },
  {
   "cell_type": "code",
   "execution_count": null,
   "id": "84755d4d-dce4-4d2c-bb42-e0d5b7c9a3f0",
   "metadata": {},
   "outputs": [],
   "source": [
    "_ = hpmcm.viz_utils.showShearObj(matcher, objLists['two_missing'][0])"
   ]
  },
  {
   "cell_type": "code",
   "execution_count": null,
   "id": "2f8ae81f-268d-4fcf-b915-1350eaefcfa6",
   "metadata": {},
   "outputs": [],
   "source": []
  },
  {
   "cell_type": "code",
   "execution_count": null,
   "id": "3e112719-baa0-45dc-a707-ae44ce99041a",
   "metadata": {},
   "outputs": [],
   "source": []
  }
 ],
 "metadata": {
  "kernelspec": {
   "display_name": "Python 3 (ipykernel)",
   "language": "python",
   "name": "python3"
  },
  "language_info": {
   "codemirror_mode": {
    "name": "ipython",
    "version": 3
   },
   "file_extension": ".py",
   "mimetype": "text/x-python",
   "name": "python",
   "nbconvert_exporter": "python",
   "pygments_lexer": "ipython3",
   "version": "3.11.11"
  }
 },
 "nbformat": 4,
 "nbformat_minor": 5
}
