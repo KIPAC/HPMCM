{
 "cells": [
  {
   "cell_type": "code",
   "execution_count": null,
   "id": "e2361a95-bb8f-4f07-8c48-cab604d54007",
   "metadata": {},
   "outputs": [],
   "source": [
    "import tables_io\n",
    "import numpy as np\n",
    "import hpmcm\n",
    "import matplotlib.pyplot as plt"
   ]
  },
  {
   "cell_type": "code",
   "execution_count": null,
   "id": "157d27ac-8b70-4cd2-b85c-566f8a826b8e",
   "metadata": {},
   "outputs": [],
   "source": [
    "keys = ['_object_assoc', '_cluster_assoc', '_object_stats', '_cluster_stats', '_object_shear', '_cluster_shear']\n",
    "st_ = 'pgauss'\n",
    "shear_st_ = \"0p01\"\n",
    "tract = 10463\n",
    "dd = tables_io.read(f\"match_data/shear_{st_}_{shear_st_}_match_{tract}.pq\", keys=keys)\n",
    "data = dd['_cluster_stats']\n",
    "data2 = dd['_cluster_shear']"
   ]
  },
  {
   "cell_type": "code",
   "execution_count": null,
   "id": "a592e9f0-9eaa-4514-ab09-e3794ba2db2b",
   "metadata": {},
   "outputs": [],
   "source": [
    "data[\"idx\"] = np.arange(len(data))\n",
    "data2[\"idx\"] = np.arange(len(data2))\n",
    "merged = data.merge(data2, on=\"idx\")\n",
    "merged['hasRefCat'] = merged.n_ns > 0\n",
    "merged['central'] = np.bitwise_and(\n",
    "    np.fabs(merged.xCent-100) < 75,\n",
    "    np.fabs(merged.yCent-100) < 75,\n",
    ")\n",
    "central = merged[merged.central]"
   ]
  },
  {
   "cell_type": "code",
   "execution_count": null,
   "id": "d10da659-c31c-49b1-83a4-7cc75ed7b850",
   "metadata": {},
   "outputs": [],
   "source": [
    "good_mask = np.bitwise_and(central.nSrc ==5, central.nUnique ==5)\n",
    "missing_md = np.bitwise_and(~good_mask, central.hasRefCat) \n",
    "missing_ref = np.bitwise_and(~good_mask, ~central.hasRefCat)\n",
    "extra = central.nSrc > central.nUnique"
   ]
  },
  {
   "cell_type": "code",
   "execution_count": null,
   "id": "9ab9ff19-66f3-4c6e-8e93-8a4fb0fb988b",
   "metadata": {},
   "outputs": [],
   "source": [
    "good_mask.values"
   ]
  },
  {
   "cell_type": "code",
   "execution_count": null,
   "id": "274782f6-fe38-4e9f-8e1b-9c89f0a091b3",
   "metadata": {},
   "outputs": [],
   "source": [
    "_ = plt.hist(central.iloc[good_mask.values].SNR, bins=np.logspace(0, 5, 101), alpha=0.5, label=\"Good Match\")\n",
    "_ = plt.hist(central.iloc[missing_md.values].SNR, bins=np.logspace(0, 5, 101), alpha=0.5, label=\"Has NS\")\n",
    "_ = plt.hist(central.iloc[missing_ref.values].SNR, bins=np.logspace(0, 5, 101), alpha=0.5, label=\"Does not have NS\")\n",
    "_ = plt.hist(central.iloc[extra.values].SNR, bins=np.logspace(0, 5, 101), alpha=0.5, label=\"Has confusion\")\n",
    "\n",
    "_ = plt.xscale('log')\n",
    "_ = plt.yscale('log')\n",
    "_ = plt.legend()\n",
    "_ = plt.xlabel(\"Signal-to-noise [i-band]\")\n",
    "_ = plt.ylabel(\"Objects [per 0.05 dex]\")"
   ]
  },
  {
   "cell_type": "code",
   "execution_count": null,
   "id": "3834b9eb-cbd5-4440-8227-c5d4a16115e0",
   "metadata": {},
   "outputs": [],
   "source": [
    "hist_all =  np.histogram(central.SNR, bins=np.logspace(0, 5, 101))[0]\n",
    "hist_missing_md = np.histogram(central.iloc[missing_md.values].SNR, bins=np.logspace(0, 5, 101))[0]\n",
    "hist_missing_ref = np.histogram(central.iloc[missing_ref.values].SNR, bins=np.logspace(0, 5, 101))[0]\n",
    "hist_extra = np.histogram(central.iloc[extra.values].SNR, bins=np.logspace(0, 5, 101))[0]"
   ]
  },
  {
   "cell_type": "code",
   "execution_count": null,
   "id": "6f333a79-85fd-4117-8f55-c3c2be2212ad",
   "metadata": {},
   "outputs": [],
   "source": [
    "ineffic_missing_md = hist_missing_md/hist_all\n",
    "ineffic_missing_ref = hist_missing_ref/hist_all\n",
    "ineffic_extra = hist_extra/hist_all\n",
    "npq_missing_md = np.sqrt(ineffic_missing_md*(1-ineffic_missing_md)/hist_all)\n",
    "npq_missing_ref = np.sqrt(ineffic_missing_ref*(1-ineffic_missing_ref)/hist_all)\n",
    "npq_missing_extra = np.sqrt(ineffic_extra*(1-ineffic_extra)/hist_all)\n",
    "bin_edges = np.logspace(0, 5, 101)\n",
    "bin_centers = np.sqrt(bin_edges[0:-1] * bin_edges[1:])"
   ]
  },
  {
   "cell_type": "code",
   "execution_count": null,
   "id": "158c7e28-fe3f-43f2-874a-8f66dbda3d07",
   "metadata": {},
   "outputs": [],
   "source": [
    "_ = plt.errorbar(bin_centers, ineffic_missing_md, yerr=npq_missing_md, label=\"Has NS\", ls=\"\", marker='.')\n",
    "_ = plt.errorbar(bin_centers, ineffic_missing_ref, yerr=npq_missing_ref, label=\"Does not have NS\", ls=\"\", marker='.')\n",
    "_ = plt.xscale('log')\n",
    "_ = plt.yscale('log')\n",
    "_ = plt.ylim(1e-3,1)\n",
    "_ = plt.xlabel(\"Signal-to-noise [i-band]\")\n",
    "_ = plt.ylabel(\"Match Inefficieny\")\n",
    "_ = plt.legend()"
   ]
  },
  {
   "cell_type": "code",
   "execution_count": null,
   "id": "db11f6a6-8372-41b1-b275-edd294f6aa7e",
   "metadata": {},
   "outputs": [],
   "source": []
  },
  {
   "cell_type": "code",
   "execution_count": null,
   "id": "7017020f-d0c1-45f4-ad5e-6010025c294e",
   "metadata": {},
   "outputs": [],
   "source": []
  },
  {
   "cell_type": "code",
   "execution_count": null,
   "id": "18c4ab8e-93b6-4640-904a-9890a9916226",
   "metadata": {},
   "outputs": [],
   "source": []
  }
 ],
 "metadata": {
  "kernelspec": {
   "display_name": "Python 3 (ipykernel)",
   "language": "python",
   "name": "python3"
  },
  "language_info": {
   "codemirror_mode": {
    "name": "ipython",
    "version": 3
   },
   "file_extension": ".py",
   "mimetype": "text/x-python",
   "name": "python",
   "nbconvert_exporter": "python",
   "pygments_lexer": "ipython3",
   "version": "3.12.9"
  }
 },
 "nbformat": 4,
 "nbformat_minor": 5
}
